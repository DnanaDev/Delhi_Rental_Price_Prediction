{
 "cells": [
  {
   "cell_type": "code",
   "execution_count": null,
   "metadata": {},
   "outputs": [],
   "source": [
    "# requests for rewuests\n",
    "# and beautiful soup for fetching data from static pages\n",
    "# for JS based dynamic pages use selenium."
   ]
  },
  {
   "cell_type": "code",
   "execution_count": 339,
   "metadata": {},
   "outputs": [],
   "source": [
    "import matplotlib.pyplot as plt"
   ]
  },
  {
   "cell_type": "code",
   "execution_count": 74,
   "metadata": {},
   "outputs": [],
   "source": [
    "import requests\n",
    "\n",
    "webpage = 'https://www.99acres.com/rent-flats-in-delhi-ncr-ffid'\n",
    "webpage_1 = 'https://housing.com/rent/search-P6xfqdsey6cc3d95h?listingId=4663649'"
   ]
  },
  {
   "cell_type": "code",
   "execution_count": 111,
   "metadata": {},
   "outputs": [],
   "source": [
    "# The webpage only returns 30 items at a time, need to scroll the page, have to use selenium for that.\n",
    "# alternatively just scroll a thousand listings and then download the page ?"
   ]
  },
  {
   "cell_type": "markdown",
   "metadata": {},
   "source": [
    "#### Using Selenium to scroll the page\n",
    "This works but all data in a single string."
   ]
  },
  {
   "cell_type": "code",
   "execution_count": 124,
   "metadata": {},
   "outputs": [],
   "source": [
    "import time\n",
    "import os\n",
    "\n",
    "from selenium import webdriver\n",
    "from selenium.webdriver.common.keys import Keys\n",
    "\n",
    "PROJECT_ROOT = os.path.abspath(os.path.abspath(''))\n",
    "DRIVER_BIN = os.path.join(PROJECT_ROOT, \"driver/chromedriver\")\n",
    "\n",
    "browser = webdriver.Chrome(executable_path = DRIVER_BIN)\n",
    "\n",
    "browser.get(webpage_1)\n",
    "time.sleep(1)\n",
    "\n",
    "elem = browser.find_element_by_tag_name(\"body\")\n",
    "\n",
    "no_of_pagedowns = 2 # loads about 860 elements\n",
    "\n",
    "while no_of_pagedowns:\n",
    "    elem.send_keys(Keys.PAGE_DOWN)\n",
    "    time.sleep(.2)\n",
    "    no_of_pagedowns-=1\n",
    "\n",
    "post_elems = browser.find_elements_by_class_name(\"css-19v6osn\")"
   ]
  },
  {
   "cell_type": "code",
   "execution_count": 101,
   "metadata": {},
   "outputs": [
    {
     "data": {
      "text/plain": [
       "1"
      ]
     },
     "execution_count": 101,
     "metadata": {},
     "output_type": "execute_result"
    }
   ],
   "source": [
    "len(post_elems)"
   ]
  },
  {
   "cell_type": "code",
   "execution_count": 136,
   "metadata": {},
   "outputs": [],
   "source": [
    "store = {}\n",
    "\n",
    "for i,post in enumerate(post_elems):\n",
    "    store[i] = post.text"
   ]
  },
  {
   "cell_type": "markdown",
   "metadata": {},
   "source": [
    "### Cleaning this Text"
   ]
  },
  {
   "cell_type": "code",
   "execution_count": 142,
   "metadata": {},
   "outputs": [
    {
     "data": {
      "text/plain": [
       "\"8,000\\n1 BHK Independent Floor\\nSemi Furnished500 sq.ft\\nDREAM HOME OFFER Good location SEMI furnished and newly build up floor all facilities are available like caretaker, water And electricity 24/7 . Shari...\\nSA\\nSaurabh Aggarwal\\nHousing Prime Agent\\nContact\\n10,000\\n1 RK Independent Floor\\nWest Patel Nagar, Patel Nagar,New Delhi\\nFully Furnished450 sq.ft\\nCity's best Independent Floor is now on rent. Affordable 1 BHK available for rent. Property for rent available. Contact for Fully Furnished property. ...\\nMP\\nMEHAR Properties\\nHousing Prime Agent\\nContact\\n16,000\\n1 BHK Independent Floor\\nWest Patel Nagar, Patel Nagar,New Delhi\\nFully Furnished450 sq.ft\\nThis well-built,sprawing Fully Furnished property can be yours. Spacious 1 BHK Independent Floor is available for rent. Properties on rent in Delhi, ...\\nMP\\nMEHAR Properties\\nHousing Prime Agent\\nContact\\n13,000\\n1 RK Independent Floor\\nWest Patel Nagar, Patel Nagar,New Delhi\\nFully Furnished450 sq.ft\\nFind an affordable Fully Furnished property here. Rent 1 BHK Independent Floor in a well-connected locality Properties on rent in Delhi, contact for m...\\nMP\\nMEHAR Properties\\nHousing Prime Agent\\nContact\\n11,000\\n1 RK Independent Floor\\nWest Patel Nagar, Patel Nagar,New Delhi\\nFully Furnished450 sq.ft\\nCity's best Independent Floor is now on rent. Fully Furnished property available for rent can be yours now. Affordable 1 BHK available for rent. Find ...\\nMP\\nMEHAR Properties\\nHousing Prime Agent\\nContact\\nStaying Alone?\\nTry PG / CO-LIVING\\nValue for money\\nHassle-Free Services\\nTogether with Friends\\nView PG/Co-living Properties\\n18,000\\n1 BHK Independent Floor\\nEast Patel Nagar, Patel Nagar,New Delhi\\nFully Furnished500 sq.ft\\nThis 1 BHK Independent Floor is available for rent. All basic amenities are available. Fully Furnished property near your office location at best pric...\\nMP\\nMEHAR Properties\\nHousing Prime Agent\\nContact\\n18,000\\n1 BHK Independent Floor\\nWest Patel Nagar, Patel Nagar,New Delhi\\nFully Furnished450 sq.ft\\nIt is beautiful Fully Furnished property. 1 BHK Independent Floor available for rent. Affordable properties now on rent in Delhi. Find best property ...\\nMP\\nMEHAR Properties\\nHousing Prime Agent\\nContact\\n13,000\\n1 RK Independent Floor\\nWest Patel Nagar, Patel Nagar,New Delhi\\nFully Furnished450 sq.ft\\nMost coveted address now available for rent, contact for Fully Furnished property. Rent this 1 BHK Independent Floor in the heart of the city. Afforda...\\nMP\\nMEHAR Properties\\nHousing Prime Agent\\nContact\\n28,000\\n2 BHK Independent Floor\\nWest Patel Nagar, Patel Nagar,New Delhi\\nFully Furnished900 sq.ft\\nIt is fully furnished 2bhk flat in prime location of patel nagar, 2mint walking from metro and ready to move property\\nMEHAR Properties\\nHousing Prime Agent\\nContact\\n14,000\\n1 RK Independent Floor\\nWest Patel Nagar, Patel Nagar,New Delhi\\nFully Furnished450 sq.ft\\nIt is 1rk fully furnished flat in prime location of patel nagar,2 mint walking from metro and ready to move property\\nMP\\nMEHAR Properties\\nHousing Prime Agent\\nContact\\n13,000\\n1 RK Independent Floor\\nWest Patel Nagar, Patel Nagar,New Delhi\\nFully Furnished400 sq.ft\\nIt is a splendid,Fully Furnished 1 BHK Independent Floor. The property is on floor number 4 in a building with 4 floors. Spacious property available f...\\nMEHAR Properties\\nHousing Prime Agent\\nContact\\n10,000\\n1 RK Independent Floor\\nWest Patel Nagar, Patel Nagar,New Delhi\\nFully Furnished450 sq.ft\\nFully Furnished property near your office location at best price. Looking for affordably priced 1 BHK on rent? Excellent Independent Floor available f...\\nMP\\nMEHAR Properties\\nHousing Prime Agent\\nContact\\n24,000\\n1 BHK Independent Floor\\nWest Patel Nagar, Patel Nagar,New Delhi\\nFully Furnished450 sq.ft\\nIt is a spacious,Fully Furnished 1 BHK Independent Floor. Affordable property available in Patel Nagar at unbelievable prices. Check out now. The prop...\\nMP\\nMEHAR Properties\\nHousing Prime Agent\\nContact\\n29,000\\n2 BHK Independent Floor\\nWest Patel Nagar, Patel Nagar,New Delhi\\nFully Furnished900 sq.ft\\nSpacious 2 BHK property available for rent. Newly built Fully Furnished property available at best rent. Affordable rental options are here. Choose th...\\nMEHAR Properties\\nHousing Prime Agent\\nContact\\n30,000\\n2 BHK Independent Floor\\nWest Patel Nagar, Patel Nagar,New Delhi\\nFully Furnished900 sq.ft\\nThis spacious 2 BHK Independent Floor is Fully Furnished. The property is on floor number 4 in a building with 4 floors. Luxury lifestyle in the heart...\\nMEHAR Properties\\nHousing Prime Agent\\nContact\\n15,000\\n1 RK Independent Floor\\nWest Patel Nagar, Patel Nagar,New Delhi\\nFully Furnished450 sq.ft\\nFind an affordable Fully Furnished property here. Nestled in a serene atmosphere, this 1 BHK Independent Floor is available for rent. If you are looki...\\nMP\\nMEHAR Properties\\nHousing Prime Agent\\nContact\\n32,000\\n2 BHK Independent Floor\\nWest Patel Nagar, Patel Nagar,New Delhi\\nFully Furnished900 sq.ft\\nBest Fully Furnished property available here. Make this splendid 2 BHK Independent Floor your home. The property is on the floor number 4 in a buildin...\\nMEHAR Properties\\nHousing Prime Agent\\nContact\\n22,000\\n2 BHK Independent Floor\\nWest Patel Nagar, Patel Nagar,New Delhi\\nSemi Furnished900 sq.ft\\nRent 2 BHK property in the heart of Delhi city. Neat and clean, this Semi-furnished property is just what you were looking for. Beautiful and spaciou...\\nMEHAR Properties\\nHousing Prime Agent\\nContact\\n25,000\\n2 BHK Independent Floor\\nWest Patel Nagar, Patel Nagar,New Delhi\\nFully Furnished900 sq.ft\\nSpacious 2 BHK Independent Floor is available for rent. Fully Furnished property near your office location at best price. Property on rent available ...\\nMEHAR Properties\\nHousing Prime Agent\\nContact\\n30,000\\n2 BHK Independent Floor\\nWest Patel Nagar, Patel Nagar,New Delhi\\nFully Furnished900 sq.ft\\nCompletely furnished ground floor in very good locality\\nMEHAR Properties\\nHousing Prime Agent\\nContact\""
      ]
     },
     "execution_count": 142,
     "metadata": {},
     "output_type": "execute_result"
    }
   ],
   "source": [
    "post.text"
   ]
  },
  {
   "cell_type": "code",
   "execution_count": 146,
   "metadata": {},
   "outputs": [],
   "source": [
    "# 9 columns for each entry\n",
    "split_text = post.text.split('\\n')"
   ]
  },
  {
   "cell_type": "code",
   "execution_count": 157,
   "metadata": {},
   "outputs": [
    {
     "data": {
      "text/plain": [
       "'10,000'"
      ]
     },
     "execution_count": 157,
     "metadata": {},
     "output_type": "execute_result"
    }
   ],
   "source": [
    "split_text[8]"
   ]
  },
  {
   "cell_type": "code",
   "execution_count": 175,
   "metadata": {},
   "outputs": [
    {
     "name": "stdout",
     "output_type": "stream",
     "text": [
      "0 8,000\n",
      "1 1 BHK Independent Floor\n",
      "2 Semi Furnished500 sq.ft\n",
      "3 DREAM HOME OFFER Good location SEMI furnished and newly build up floor all facilities are available like caretaker, water And electricity 24/7 . Shari...\n",
      "4 SA\n",
      "5 Saurabh Aggarwal\n",
      "6 Housing Prime Agent\n",
      "7 Contact\n",
      "8 10,000\n",
      "9 1 RK Independent Floor\n",
      "10 West Patel Nagar, Patel Nagar,New Delhi\n",
      "11 Fully Furnished450 sq.ft\n",
      "12 City's best Independent Floor is now on rent. Affordable 1 BHK available for rent. Property for rent available. Contact for Fully Furnished property. ...\n",
      "13 MP\n",
      "14 MEHAR Properties\n",
      "15 Housing Prime Agent\n",
      "16 Contact\n",
      "17 16,000\n",
      "18 1 BHK Independent Floor\n",
      "19 West Patel Nagar, Patel Nagar,New Delhi\n",
      "20 Fully Furnished450 sq.ft\n",
      "21 This well-built,sprawing Fully Furnished property can be yours. Spacious 1 BHK Independent Floor is available for rent. Properties on rent in Delhi, ...\n",
      "22 MP\n",
      "23 MEHAR Properties\n",
      "24 Housing Prime Agent\n",
      "25 Contact\n",
      "26 13,000\n",
      "27 1 RK Independent Floor\n",
      "28 West Patel Nagar, Patel Nagar,New Delhi\n",
      "29 Fully Furnished450 sq.ft\n",
      "30 Find an affordable Fully Furnished property here. Rent 1 BHK Independent Floor in a well-connected locality Properties on rent in Delhi, contact for m...\n",
      "31 MP\n",
      "32 MEHAR Properties\n",
      "33 Housing Prime Agent\n",
      "34 Contact\n",
      "35 11,000\n",
      "36 1 RK Independent Floor\n",
      "37 West Patel Nagar, Patel Nagar,New Delhi\n",
      "38 Fully Furnished450 sq.ft\n",
      "39 City's best Independent Floor is now on rent. Fully Furnished property available for rent can be yours now. Affordable 1 BHK available for rent. Find ...\n",
      "40 MP\n",
      "41 MEHAR Properties\n",
      "42 Housing Prime Agent\n",
      "43 Contact\n",
      "44 Staying Alone?\n",
      "45 Try PG / CO-LIVING\n",
      "46 Value for money\n",
      "47 Hassle-Free Services\n",
      "48 Together with Friends\n",
      "49 View PG/Co-living Properties\n",
      "50 18,000\n",
      "51 1 BHK Independent Floor\n",
      "52 East Patel Nagar, Patel Nagar,New Delhi\n",
      "53 Fully Furnished500 sq.ft\n",
      "54 This 1 BHK Independent Floor is available for rent. All basic amenities are available. Fully Furnished property near your office location at best pric...\n",
      "55 MP\n",
      "56 MEHAR Properties\n",
      "57 Housing Prime Agent\n",
      "58 Contact\n",
      "59 18,000\n",
      "60 1 BHK Independent Floor\n",
      "61 West Patel Nagar, Patel Nagar,New Delhi\n",
      "62 Fully Furnished450 sq.ft\n",
      "63 It is beautiful Fully Furnished property. 1 BHK Independent Floor available for rent. Affordable properties now on rent in Delhi. Find best property ...\n",
      "64 MP\n",
      "65 MEHAR Properties\n",
      "66 Housing Prime Agent\n",
      "67 Contact\n",
      "68 13,000\n",
      "69 1 RK Independent Floor\n",
      "70 West Patel Nagar, Patel Nagar,New Delhi\n",
      "71 Fully Furnished450 sq.ft\n",
      "72 Most coveted address now available for rent, contact for Fully Furnished property. Rent this 1 BHK Independent Floor in the heart of the city. Afforda...\n",
      "73 MP\n",
      "74 MEHAR Properties\n",
      "75 Housing Prime Agent\n",
      "76 Contact\n",
      "77 28,000\n",
      "78 2 BHK Independent Floor\n",
      "79 West Patel Nagar, Patel Nagar,New Delhi\n",
      "80 Fully Furnished900 sq.ft\n",
      "81 It is fully furnished 2bhk flat in prime location of patel nagar, 2mint walking from metro and ready to move property\n",
      "82 MEHAR Properties\n",
      "83 Housing Prime Agent\n",
      "84 Contact\n",
      "85 14,000\n",
      "86 1 RK Independent Floor\n",
      "87 West Patel Nagar, Patel Nagar,New Delhi\n",
      "88 Fully Furnished450 sq.ft\n",
      "89 It is 1rk fully furnished flat in prime location of patel nagar,2 mint walking from metro and ready to move property\n",
      "90 MP\n",
      "91 MEHAR Properties\n",
      "92 Housing Prime Agent\n",
      "93 Contact\n",
      "94 13,000\n",
      "95 1 RK Independent Floor\n",
      "96 West Patel Nagar, Patel Nagar,New Delhi\n",
      "97 Fully Furnished400 sq.ft\n",
      "98 It is a splendid,Fully Furnished 1 BHK Independent Floor. The property is on floor number 4 in a building with 4 floors. Spacious property available f...\n",
      "99 MEHAR Properties\n",
      "100 Housing Prime Agent\n",
      "101 Contact\n",
      "102 10,000\n",
      "103 1 RK Independent Floor\n",
      "104 West Patel Nagar, Patel Nagar,New Delhi\n",
      "105 Fully Furnished450 sq.ft\n",
      "106 Fully Furnished property near your office location at best price. Looking for affordably priced 1 BHK on rent? Excellent Independent Floor available f...\n",
      "107 MP\n",
      "108 MEHAR Properties\n",
      "109 Housing Prime Agent\n",
      "110 Contact\n",
      "111 24,000\n",
      "112 1 BHK Independent Floor\n",
      "113 West Patel Nagar, Patel Nagar,New Delhi\n",
      "114 Fully Furnished450 sq.ft\n",
      "115 It is a spacious,Fully Furnished 1 BHK Independent Floor. Affordable property available in Patel Nagar at unbelievable prices. Check out now. The prop...\n",
      "116 MP\n",
      "117 MEHAR Properties\n",
      "118 Housing Prime Agent\n",
      "119 Contact\n",
      "120 29,000\n",
      "121 2 BHK Independent Floor\n",
      "122 West Patel Nagar, Patel Nagar,New Delhi\n",
      "123 Fully Furnished900 sq.ft\n",
      "124 Spacious 2 BHK property available for rent. Newly built Fully Furnished property available at best rent. Affordable rental options are here. Choose th...\n",
      "125 MEHAR Properties\n",
      "126 Housing Prime Agent\n",
      "127 Contact\n",
      "128 30,000\n",
      "129 2 BHK Independent Floor\n",
      "130 West Patel Nagar, Patel Nagar,New Delhi\n",
      "131 Fully Furnished900 sq.ft\n",
      "132 This spacious 2 BHK Independent Floor is Fully Furnished. The property is on floor number 4 in a building with 4 floors. Luxury lifestyle in the heart...\n",
      "133 MEHAR Properties\n",
      "134 Housing Prime Agent\n",
      "135 Contact\n",
      "136 15,000\n",
      "137 1 RK Independent Floor\n",
      "138 West Patel Nagar, Patel Nagar,New Delhi\n",
      "139 Fully Furnished450 sq.ft\n",
      "140 Find an affordable Fully Furnished property here. Nestled in a serene atmosphere, this 1 BHK Independent Floor is available for rent. If you are looki...\n",
      "141 MP\n",
      "142 MEHAR Properties\n",
      "143 Housing Prime Agent\n",
      "144 Contact\n",
      "145 32,000\n",
      "146 2 BHK Independent Floor\n",
      "147 West Patel Nagar, Patel Nagar,New Delhi\n",
      "148 Fully Furnished900 sq.ft\n",
      "149 Best Fully Furnished property available here. Make this splendid 2 BHK Independent Floor your home. The property is on the floor number 4 in a buildin...\n",
      "150 MEHAR Properties\n",
      "151 Housing Prime Agent\n",
      "152 Contact\n",
      "153 22,000\n",
      "154 2 BHK Independent Floor\n",
      "155 West Patel Nagar, Patel Nagar,New Delhi\n",
      "156 Semi Furnished900 sq.ft\n",
      "157 Rent 2 BHK property in the heart of Delhi city. Neat and clean, this Semi-furnished property is just what you were looking for. Beautiful and spaciou...\n",
      "158 MEHAR Properties\n",
      "159 Housing Prime Agent\n",
      "160 Contact\n",
      "161 25,000\n",
      "162 2 BHK Independent Floor\n",
      "163 West Patel Nagar, Patel Nagar,New Delhi\n",
      "164 Fully Furnished900 sq.ft\n",
      "165 Spacious 2 BHK Independent Floor is available for rent. Fully Furnished property near your office location at best price. Property on rent available ...\n",
      "166 MEHAR Properties\n",
      "167 Housing Prime Agent\n",
      "168 Contact\n",
      "169 30,000\n",
      "170 2 BHK Independent Floor\n",
      "171 West Patel Nagar, Patel Nagar,New Delhi\n",
      "172 Fully Furnished900 sq.ft\n",
      "173 Completely furnished ground floor in very good locality\n",
      "174 MEHAR Properties\n",
      "175 Housing Prime Agent\n",
      "176 Contact\n"
     ]
    }
   ],
   "source": [
    "for i, item in enumerate(split_text):\n",
    "    print(i, item)"
   ]
  },
  {
   "cell_type": "code",
   "execution_count": 172,
   "metadata": {},
   "outputs": [
    {
     "data": {
      "text/plain": [
       "[['8,000',\n",
       "  '1 BHK Independent Floor',\n",
       "  'Semi Furnished500 sq.ft',\n",
       "  'DREAM HOME OFFER Good location SEMI furnished and newly build up floor all facilities are available like caretaker, water And electricity 24/7 . Shari...',\n",
       "  'SA',\n",
       "  'Saurabh Aggarwal',\n",
       "  'Housing Prime Agent',\n",
       "  'Contact'],\n",
       " ['10,000',\n",
       "  '1 RK Independent Floor',\n",
       "  'West Patel Nagar, Patel Nagar,New Delhi',\n",
       "  'Fully Furnished450 sq.ft',\n",
       "  \"City's best Independent Floor is now on rent. Affordable 1 BHK available for rent. Property for rent available. Contact for Fully Furnished property. ...\",\n",
       "  'MP',\n",
       "  'MEHAR Properties',\n",
       "  'Housing Prime Agent'],\n",
       " ['Contact',\n",
       "  '16,000',\n",
       "  '1 BHK Independent Floor',\n",
       "  'West Patel Nagar, Patel Nagar,New Delhi',\n",
       "  'Fully Furnished450 sq.ft',\n",
       "  'This well-built,sprawing Fully Furnished property can be yours. Spacious 1 BHK Independent Floor is available for rent. Properties on rent in Delhi, ...',\n",
       "  'MP',\n",
       "  'MEHAR Properties'],\n",
       " ['Housing Prime Agent',\n",
       "  'Contact',\n",
       "  '13,000',\n",
       "  '1 RK Independent Floor',\n",
       "  'West Patel Nagar, Patel Nagar,New Delhi',\n",
       "  'Fully Furnished450 sq.ft',\n",
       "  'Find an affordable Fully Furnished property here. Rent 1 BHK Independent Floor in a well-connected locality Properties on rent in Delhi, contact for m...',\n",
       "  'MP'],\n",
       " ['MEHAR Properties',\n",
       "  'Housing Prime Agent',\n",
       "  'Contact',\n",
       "  '11,000',\n",
       "  '1 RK Independent Floor',\n",
       "  'West Patel Nagar, Patel Nagar,New Delhi',\n",
       "  'Fully Furnished450 sq.ft',\n",
       "  \"City's best Independent Floor is now on rent. Fully Furnished property available for rent can be yours now. Affordable 1 BHK available for rent. Find ...\"],\n",
       " ['MP',\n",
       "  'MEHAR Properties',\n",
       "  'Housing Prime Agent',\n",
       "  'Contact',\n",
       "  'Staying Alone?',\n",
       "  'Try PG / CO-LIVING',\n",
       "  'Value for money',\n",
       "  'Hassle-Free Services'],\n",
       " ['Together with Friends',\n",
       "  'View PG/Co-living Properties',\n",
       "  '18,000',\n",
       "  '1 BHK Independent Floor',\n",
       "  'East Patel Nagar, Patel Nagar,New Delhi',\n",
       "  'Fully Furnished500 sq.ft',\n",
       "  'This 1 BHK Independent Floor is available for rent. All basic amenities are available. Fully Furnished property near your office location at best pric...',\n",
       "  'MP'],\n",
       " ['MEHAR Properties',\n",
       "  'Housing Prime Agent',\n",
       "  'Contact',\n",
       "  '18,000',\n",
       "  '1 BHK Independent Floor',\n",
       "  'West Patel Nagar, Patel Nagar,New Delhi',\n",
       "  'Fully Furnished450 sq.ft',\n",
       "  'It is beautiful Fully Furnished property. 1 BHK Independent Floor available for rent. Affordable properties now on rent in Delhi. Find best property ...'],\n",
       " ['MP',\n",
       "  'MEHAR Properties',\n",
       "  'Housing Prime Agent',\n",
       "  'Contact',\n",
       "  '13,000',\n",
       "  '1 RK Independent Floor',\n",
       "  'West Patel Nagar, Patel Nagar,New Delhi',\n",
       "  'Fully Furnished450 sq.ft'],\n",
       " ['Most coveted address now available for rent, contact for Fully Furnished property. Rent this 1 BHK Independent Floor in the heart of the city. Afforda...',\n",
       "  'MP',\n",
       "  'MEHAR Properties',\n",
       "  'Housing Prime Agent',\n",
       "  'Contact',\n",
       "  '28,000',\n",
       "  '2 BHK Independent Floor',\n",
       "  'West Patel Nagar, Patel Nagar,New Delhi'],\n",
       " ['Fully Furnished900 sq.ft',\n",
       "  'It is fully furnished 2bhk flat in prime location of patel nagar, 2mint walking from metro and ready to move property',\n",
       "  'MEHAR Properties',\n",
       "  'Housing Prime Agent',\n",
       "  'Contact',\n",
       "  '14,000',\n",
       "  '1 RK Independent Floor',\n",
       "  'West Patel Nagar, Patel Nagar,New Delhi'],\n",
       " ['Fully Furnished450 sq.ft',\n",
       "  'It is 1rk fully furnished flat in prime location of patel nagar,2 mint walking from metro and ready to move property',\n",
       "  'MP',\n",
       "  'MEHAR Properties',\n",
       "  'Housing Prime Agent',\n",
       "  'Contact',\n",
       "  '13,000',\n",
       "  '1 RK Independent Floor'],\n",
       " ['West Patel Nagar, Patel Nagar,New Delhi',\n",
       "  'Fully Furnished400 sq.ft',\n",
       "  'It is a splendid,Fully Furnished 1 BHK Independent Floor. The property is on floor number 4 in a building with 4 floors. Spacious property available f...',\n",
       "  'MEHAR Properties',\n",
       "  'Housing Prime Agent',\n",
       "  'Contact',\n",
       "  '10,000',\n",
       "  '1 RK Independent Floor'],\n",
       " ['West Patel Nagar, Patel Nagar,New Delhi',\n",
       "  'Fully Furnished450 sq.ft',\n",
       "  'Fully Furnished property near your office location at best price. Looking for affordably priced 1 BHK on rent? Excellent Independent Floor available f...',\n",
       "  'MP',\n",
       "  'MEHAR Properties',\n",
       "  'Housing Prime Agent',\n",
       "  'Contact',\n",
       "  '24,000'],\n",
       " ['1 BHK Independent Floor',\n",
       "  'West Patel Nagar, Patel Nagar,New Delhi',\n",
       "  'Fully Furnished450 sq.ft',\n",
       "  'It is a spacious,Fully Furnished 1 BHK Independent Floor. Affordable property available in Patel Nagar at unbelievable prices. Check out now. The prop...',\n",
       "  'MP',\n",
       "  'MEHAR Properties',\n",
       "  'Housing Prime Agent',\n",
       "  'Contact'],\n",
       " ['29,000',\n",
       "  '2 BHK Independent Floor',\n",
       "  'West Patel Nagar, Patel Nagar,New Delhi',\n",
       "  'Fully Furnished900 sq.ft',\n",
       "  'Spacious 2 BHK property available for rent. Newly built Fully Furnished property available at best rent. Affordable rental options are here. Choose th...',\n",
       "  'MEHAR Properties',\n",
       "  'Housing Prime Agent',\n",
       "  'Contact'],\n",
       " ['30,000',\n",
       "  '2 BHK Independent Floor',\n",
       "  'West Patel Nagar, Patel Nagar,New Delhi',\n",
       "  'Fully Furnished900 sq.ft',\n",
       "  'This spacious 2 BHK Independent Floor is Fully Furnished. The property is on floor number 4 in a building with 4 floors. Luxury lifestyle in the heart...',\n",
       "  'MEHAR Properties',\n",
       "  'Housing Prime Agent',\n",
       "  'Contact'],\n",
       " ['15,000',\n",
       "  '1 RK Independent Floor',\n",
       "  'West Patel Nagar, Patel Nagar,New Delhi',\n",
       "  'Fully Furnished450 sq.ft',\n",
       "  'Find an affordable Fully Furnished property here. Nestled in a serene atmosphere, this 1 BHK Independent Floor is available for rent. If you are looki...',\n",
       "  'MP',\n",
       "  'MEHAR Properties',\n",
       "  'Housing Prime Agent'],\n",
       " ['Contact',\n",
       "  '32,000',\n",
       "  '2 BHK Independent Floor',\n",
       "  'West Patel Nagar, Patel Nagar,New Delhi',\n",
       "  'Fully Furnished900 sq.ft',\n",
       "  'Best Fully Furnished property available here. Make this splendid 2 BHK Independent Floor your home. The property is on the floor number 4 in a buildin...',\n",
       "  'MEHAR Properties',\n",
       "  'Housing Prime Agent'],\n",
       " ['Contact',\n",
       "  '22,000',\n",
       "  '2 BHK Independent Floor',\n",
       "  'West Patel Nagar, Patel Nagar,New Delhi',\n",
       "  'Semi Furnished900 sq.ft',\n",
       "  'Rent 2 BHK property in the heart of Delhi city. Neat and clean, this Semi-furnished property is just what you were looking for. Beautiful and spaciou...',\n",
       "  'MEHAR Properties',\n",
       "  'Housing Prime Agent'],\n",
       " ['Contact',\n",
       "  '25,000',\n",
       "  '2 BHK Independent Floor',\n",
       "  'West Patel Nagar, Patel Nagar,New Delhi',\n",
       "  'Fully Furnished900 sq.ft',\n",
       "  'Spacious 2 BHK Independent Floor is available for rent. Fully Furnished property near your office location at best price. Property on rent available ...',\n",
       "  'MEHAR Properties',\n",
       "  'Housing Prime Agent'],\n",
       " ['Contact',\n",
       "  '30,000',\n",
       "  '2 BHK Independent Floor',\n",
       "  'West Patel Nagar, Patel Nagar,New Delhi',\n",
       "  'Fully Furnished900 sq.ft',\n",
       "  'Completely furnished ground floor in very good locality',\n",
       "  'MEHAR Properties',\n",
       "  'Housing Prime Agent'],\n",
       " ['Contact']]"
      ]
     },
     "execution_count": 172,
     "metadata": {},
     "output_type": "execute_result"
    }
   ],
   "source": [
    "# this wouldn't work as the number of rows is not standardised.'\\n' \n",
    "n = 8\n",
    "[split_text[i:i + n] for i in range(0, len(split_text), n)]"
   ]
  },
  {
   "cell_type": "code",
   "execution_count": 173,
   "metadata": {},
   "outputs": [],
   "source": [
    "## Another method - split with regex when atleast 4 cont. numbers for price, but could be true for size too."
   ]
  },
  {
   "cell_type": "code",
   "execution_count": null,
   "metadata": {},
   "outputs": [],
   "source": []
  },
  {
   "cell_type": "code",
   "execution_count": null,
   "metadata": {},
   "outputs": [],
   "source": []
  },
  {
   "cell_type": "code",
   "execution_count": null,
   "metadata": {},
   "outputs": [],
   "source": []
  },
  {
   "cell_type": "code",
   "execution_count": null,
   "metadata": {},
   "outputs": [],
   "source": []
  },
  {
   "cell_type": "markdown",
   "metadata": {},
   "source": [
    "#### Static page approach"
   ]
  },
  {
   "cell_type": "code",
   "execution_count": 29,
   "metadata": {},
   "outputs": [
    {
     "name": "stdout",
     "output_type": "stream",
     "text": [
      "200\n"
     ]
    }
   ],
   "source": [
    "# fetch the webpage\n",
    "\n",
    "page = requests.get(webpage_1)\n",
    "\n",
    "# returns a response object. \n",
    "\n",
    "print(page.status_code)\n",
    "\n",
    "from bs4 import BeautifulSoup\n",
    "# Beautiful Soup can be used to extract information from HTML pagess, downloaded ones too\n",
    "\n",
    "# send HTML content of page to BeautifulSoup object, invoke html parser\n",
    "\n",
    "soup = BeautifulSoup(page.content, 'html.parser')"
   ]
  },
  {
   "cell_type": "code",
   "execution_count": 62,
   "metadata": {},
   "outputs": [
    {
     "data": {
      "text/plain": [
       "[bs4.element.Doctype, bs4.element.Tag]"
      ]
     },
     "execution_count": 62,
     "metadata": {},
     "output_type": "execute_result"
    }
   ],
   "source": [
    "# saved source code\n",
    "# print(soup.prettify())\n",
    "\n",
    "# we can move through the page one level at a time, using children property of soup, returns list\n",
    "# Could have used something like beatiful soup.fina_all() for each listing\n",
    "\n",
    "# in the html of the page, find all the bins with <li> and class:\n",
    "# house_data = html_soup.find_all('li', class_=\"search-list__item search-list__item--listing\")\n",
    "\n",
    "#print(list(soup.children)[1])\n",
    "\n",
    "[type(item) for item in list(soup.children)]\n"
   ]
  },
  {
   "cell_type": "code",
   "execution_count": 33,
   "metadata": {},
   "outputs": [],
   "source": [
    "\n",
    "# saving this to html_lang\n",
    "\n",
    "html_lang = list(soup.children)[1]\n",
    "\n",
    "body_page = list(html_lang.children)[1]"
   ]
  },
  {
   "cell_type": "markdown",
   "metadata": {},
   "source": [
    "#### Extracting the desired div\n",
    "Using body tag as a refrence point. <br>\n",
    "body[0][0][2][1][2]"
   ]
  },
  {
   "cell_type": "code",
   "execution_count": 51,
   "metadata": {},
   "outputs": [],
   "source": [
    "level_1 = list(body_page.children)[0]\n",
    "\n",
    "level_2 = list(level_1.children)[1]\n",
    "\n",
    "level_3 = list(list((list(level_2.children)[2]).children)[1].children)[2]"
   ]
  },
  {
   "cell_type": "code",
   "execution_count": 58,
   "metadata": {},
   "outputs": [],
   "source": [
    "# Thats it, these are the listings.\n",
    "\n",
    "# Store this data in a dictionary\n",
    "\n",
    "listings = {}\n",
    "\n",
    "for key, item in enumerate(list(level_3.children)):\n",
    "    listings[key] = item"
   ]
  },
  {
   "cell_type": "code",
   "execution_count": 121,
   "metadata": {},
   "outputs": [
    {
     "data": {
      "text/plain": [
       "'<article class=\"css-1kk5az4\" data-listingid=\"4663649\" id=\"srp-0\">\\n <div class=\"css-xovbnn\">\\n  <div class=\"css-1p99d2q\">\\n   <img class=\"img css-br386n\" src=\"//c.housingcdn.com/s/assets/property-fallback.6d3e2abe.png\"/>\\n  </div>\\n  <div class=\"css-194z77h\">\\n   <div data-q=\"result-data\">\\n    <div class=\"css-12221nt\">\\n     <div class=\"css-1g4x5kn\">\\n      <span class=\"shortlistIcon css-17qnvkx\" data-q=\"shortlist-false\">\\n      </span>\\n     </div>\\n    </div>\\n    <div class=\"css-1rbm4ry\" data-q=\"price\">\\n     <span class=\"rupee-icon css-1i4zbuc\">\\n     </span>\\n     8,000\\n    </div>\\n    <a class=\"css-dk6esa\" data-q=\"title\" href=\"/rent/4663649-500-sqft-1-bhk-independent-floor-on-rent-in-chhatarpur-delhi\">\\n     1 BHK Independent Floor\\n    </a>\\n    <div class=\"css-i7cf4s\" data-q=\"address\">\\n    </div>\\n    <div class=\"css-10v2eo1\" data-q=\"features\">\\n     <span class=\"css-wze9ea\">\\n      Semi Furnished\\n     </span>\\n     <span class=\"css-wze9ea\">\\n      500 sq.ft\\n     </span>\\n    </div>\\n   </div>\\n   <div class=\"css-ksq6j2\" data-q=\"desc\">\\n    <span class=\"css-x10lpy\">\\n     DREAM HOME OFFER Good location SEMI furnished and newly build up floor all facilities are available like caretaker, water And electricity 24/7 . Shari...\\n    </span>\\n   </div>\\n   <div>\\n    <div class=\"contact-bar css-11tecxt\" data-q=\"seller-data\">\\n     <div class=\"thumbnail-wrapper css-1uoxvj3\">\\n      <div class=\"image css-1lvvhqp\" style=\"background-color:#ffcd03\">\\n       SA\\n      </div>\\n      <img alt=\"Prime User\" class=\"img css-67zg1q\" src=\"//c.housingcdn.com/s/assets/badge.fbe4ad08.png\"/>\\n     </div>\\n     <div class=\"details css-54gk32\">\\n      <div class=\"css-wni7av\">\\n       <a class=\"css-0\" href=\"/agents/search-A5r48i4mbsjvfd5asotptxhafh\" target=\"_blank\">\\n        Saurabh Aggarwal\\n       </a>\\n      </div>\\n      <div class=\"css-1lrcm0c\">\\n       Housing Prime Agent\\n      </div>\\n     </div>\\n     <button class=\"cta css-1rkgyp6\">\\n      Contact\\n     </button>\\n    </div>\\n   </div>\\n  </div>\\n </div>\\n</article>\\n'"
      ]
     },
     "execution_count": 121,
     "metadata": {},
     "output_type": "execute_result"
    }
   ],
   "source": [
    "# so, we have 30 listings, need atleast a 1000.\n",
    "listings[0].prettify()"
   ]
  },
  {
   "cell_type": "markdown",
   "metadata": {},
   "source": [
    "## Makaan.com website. \n",
    "makaan.com - Has props for rent in different parts of Delhi, Get script working on one, upto getting cleanish data\n",
    "Then do for all areas of delhi and clean.<br>\n",
    "OH MY GOD - THE SCRIPT WORKS FETCHING LOTS OF DATA"
   ]
  },
  {
   "cell_type": "code",
   "execution_count": null,
   "metadata": {},
   "outputs": [],
   "source": [
    "# from makaan.com Their source code has their config file \n",
    "\n",
    "{\"selector\":\"listing_10051927\",\"sellerType\":\"AGENT\",\n",
    " \"companyType\":\"AGENT\",\"companyId\":2068867,\"companyUserId\":17937939,\n",
    " \"backgroundColor\":\"#dde2ed\",\"textColor\":\"#fff\",\"nameText\":\"S\",\n",
    " \"companyName\":\"Smart Homes\",\"companyRating\":4.3,\n",
    " \"verificationDate\":1588444200000,\"serverTime\":1591379468463,\n",
    " \"listingUrl\":\"https://www.makaan.com/delhi/builder-project-in-sainik-farms-10051927/2bhk-3t-1500-sqft-independenthouse-for-rent\",\n",
    " \"imageUrl\":\"https://static.makaan.com/17/0/572/31067456.jpeg?width=460&amp;height=260\"\n",
    " ,\"id\":10051927,\"propertyId\":10581254,\"projectId\":1187264,\"projectName\":\"Project\",\n",
    " \"projectStatus\":\"Ready to move\",\"mainImageId\":\"\",\"imageCount\":0,\"latitude\":28.50962448,\"longitude\":77.19683838\n",
    " ,\"localityName\":\"Sainik Farms\",\"suburbName\":\"Delhi South\",\"cityName\":\"Delhi\"\n",
    " ,\"localityUrl\":\"https://www.makaan.com/delhi/sainik-farms-real-estate-53815\"\n",
    " ,\"rank\":7,\"price\":35000,\"unitTypeId\":19,\"propertyType\":\"Independent House\",\"bedrooms\":2\n",
    " ,\"isPlot\":false,\"isApartment\":false,\"localityId\":53815,\"suburbId\":10022,\"cityId\":6\n",
    " ,\"listingScore\":4.18182,\"listingCategory\":\"Rental\",\"isCommercial\":\"\"\n",
    " ,\"size\":\"1,500 sq ft\",\"isRk\":false,\"isPentHouse\":false,\"isStudio\":false,\"defaultImageId\":\"\"\n",
    " ,\"sellerCallRatingCount\":0,\"sellerCompanyFeedbackCount\":0,\"isAccountLocked\":false\n",
    " ,\"isPaidSeller\":false,\"sellerTransactionStatus\":{\"isExpertDealMaker\":false\n",
    "                                                  ,\"isDealMaker\":false,\"typeLabel\":\"\"}\n",
    " ,\"isOriginalSearchResult\":true,\"isMakaanSelectSeller\":false,\"mainImageWidth\":584,\"mainImageHeight\":330\n",
    " ,\"leadType\":\"paid\",\"reraInfo\":\"N/A\",\"isMPMatchTagListing\":\"false\",\"listingDomain\":\"housing\"}"
   ]
  },
  {
   "cell_type": "code",
   "execution_count": 1,
   "metadata": {},
   "outputs": [],
   "source": [
    "import json\n",
    "import pandas as pd"
   ]
  },
  {
   "cell_type": "code",
   "execution_count": 306,
   "metadata": {},
   "outputs": [],
   "source": [
    "# Problem - Fetches ads too\n",
    "\n",
    "def fetch_listings(webpage, num_pages = 1):\n",
    "    \"\"\" Takes in the makaan.com URL and fetches the \n",
    "    listings for the number of pages specified.\n",
    "    Returns the list of json of all listings.\n",
    "    \"\"\"\n",
    "    listings = []\n",
    "    json_list = []\n",
    "    \n",
    "    for i in range(1, num_pages+1):\n",
    "        \n",
    "        # Url for the page\n",
    "        url = webpage.split('?')[0] + '?page=' + str(i)\n",
    "        # fetching page and contents\n",
    "        page = requests.get(url)\n",
    "        content = BeautifulSoup(page.content, 'html.parser')\n",
    "        # find list of listing - 21 listings per page\n",
    "        house_data = content.find_all('li', class_=\"cardholder\")\n",
    "        listings.extend(list(house_data))\n",
    "        \n",
    "    for i in range(len(listings)):\n",
    "        json_list.append(list(listings)[i].find_all('script', {\"type\":\"text/x-config\"})[0].text)\n",
    "    return json_list"
   ]
  },
  {
   "cell_type": "code",
   "execution_count": 259,
   "metadata": {},
   "outputs": [],
   "source": [
    "# Function that parses the JSON and creates a DF with the data and for columns 'size', 'propertyType',\"bedrooms\",\n",
    "#'latitude', 'longitude', 'localityName', 'suburbName', 'cityName', 'price', 'companyName'\n",
    "\n",
    "def remove_adds(list_json):\n",
    "    \"\"\" Takes in the list of JSON and returns list of JSON without Adds.\n",
    "    \"\"\"\n",
    "    clean_json = []\n",
    "    \n",
    "    # iterate over list of json\n",
    "\n",
    "    for i in range(len(list_json)):\n",
    "        temp = json.loads(list_json[i])\n",
    "        key = list(temp.keys())[0]\n",
    "        if key == 'selector':\n",
    "            clean_json.append(temp)\n",
    "    \n",
    "    return clean_json"
   ]
  },
  {
   "cell_type": "code",
   "execution_count": 359,
   "metadata": {},
   "outputs": [],
   "source": [
    "def json_to_df(list_json):\n",
    "    \"\"\" Takes in the list of JSON and creates a DF.\n",
    "    Returns DF with each listing as a row and the columns - 'size', 'propertyType',\"bedrooms\",\n",
    "    'latitude', 'longitude', 'localityName', 'suburbName', 'cityName', 'price', 'companyName'\n",
    "    \"\"\"\n",
    "    # create a dataframe \n",
    "    data = pd.DataFrame(columns=['size', 'propertyType',\"bedrooms\",\n",
    "    'latitude', 'longitude', 'localityName', 'suburbName', 'cityName', 'price', 'companyName'])\n",
    "    \n",
    "    # iterate over JSON\n",
    "    for i in range(len(list_json)):\n",
    "        temp = list_json[i]\n",
    "        try:\n",
    "            data.loc[i] = [temp['size'], temp['propertyType'],temp['bedrooms'],\n",
    "                           temp['latitude'], temp['longitude'],temp['localityName']\n",
    "                           ,temp['suburbName'], temp['cityName'], temp['price'], temp['companyName']]\n",
    "        except KeyError : \n",
    "            pass\n",
    "        \n",
    "    return data"
   ]
  },
  {
   "cell_type": "code",
   "execution_count": 349,
   "metadata": {},
   "outputs": [],
   "source": [
    "# east delhi\n",
    "webpage_east = 'https://www.makaan.com/delhi/delhi-east-flats-for-rent-10019?page=1'\n",
    "east_delhi = fetch_listings(webpage_east, num_pages=100)\n",
    "clean_east_delhi = remove_adds(east_delhi)\n",
    "east_delhi_df = json_to_df(clean_east_delhi)"
   ]
  },
  {
   "cell_type": "code",
   "execution_count": 352,
   "metadata": {},
   "outputs": [],
   "source": [
    "# rohini\n",
    "webpage_rohini = 'https://www.makaan.com/delhi/rohini-flats-for-rent-11606?page=1'\n",
    "rohini = fetch_listings(webpage_rohini, num_pages=100)\n",
    "clean_rohini = remove_adds(rohini)\n",
    "rohini_df = json_to_df(clean_rohini)"
   ]
  },
  {
   "cell_type": "code",
   "execution_count": 353,
   "metadata": {},
   "outputs": [],
   "source": [
    "# south delhi \n",
    "\n",
    "webpage_south = 'https://www.makaan.com/delhi/delhi-south-flats-for-rent-10022?page=1'\n",
    "south = fetch_listings(webpage_south, num_pages=100)\n",
    "clean_south = remove_adds(south)\n",
    "south_df = json_to_df(clean_south)"
   ]
  },
  {
   "cell_type": "code",
   "execution_count": 354,
   "metadata": {},
   "outputs": [],
   "source": [
    "# West Delhi \n",
    "\n",
    "webpage_west = 'https://www.makaan.com/delhi/west-delhi-flats-for-rent-10176?page=1'\n",
    "west = fetch_listings(webpage_west, num_pages=100)\n",
    "clean_west = remove_adds(west)\n",
    "west_df = json_to_df(clean_west)"
   ]
  },
  {
   "cell_type": "code",
   "execution_count": 367,
   "metadata": {},
   "outputs": [],
   "source": [
    "# north delhi - has fewer entries - 1329, have to make do\n",
    "webpage_north = 'https://www.makaan.com/delhi/north-delhi-flats-for-rent-10177?page=1'\n",
    "north = fetch_listings(webpage_north, num_pages=150)\n",
    "clean_north = remove_adds(north)\n",
    "north_df = json_to_df(clean_north)"
   ]
  },
  {
   "cell_type": "code",
   "execution_count": 363,
   "metadata": {},
   "outputs": [
    {
     "data": {
      "image/png": "[encoded data removed]",
      "text/plain": [
       "<Figure size 864x432 with 1 Axes>"
      ]
     },
     "metadata": {
      "needs_background": "light"
     },
     "output_type": "display_data"
    }
   ],
   "source": [
    "plt.figure(figsize=(12,6))\n",
    "rohini_df.price.astype(int).plot(kind = 'hist')\n",
    "east_delhi_df.price.astype(int).plot(kind = 'hist')\n",
    "south_df.price.astype(int).plot(kind = 'hist')\n",
    "west_df.price.astype(int).plot(kind = 'hist')\n",
    "north_df.price.astype(int).plot(kind = 'hist')\n",
    "plt.legend()\n",
    "plt.show()"
   ]
  },
  {
   "cell_type": "code",
   "execution_count": 365,
   "metadata": {},
   "outputs": [],
   "source": [
    "rent_data = pd.concat([east_delhi_df, rohini_df, south_df, west_df, north_df], axis = 0)"
   ]
  },
  {
   "cell_type": "code",
   "execution_count": 369,
   "metadata": {},
   "outputs": [],
   "source": [
    "rent_data.to_csv('Rent_data_makaan.csv')"
   ]
  },
  {
   "cell_type": "code",
   "execution_count": 370,
   "metadata": {},
   "outputs": [
    {
     "name": "stdout",
     "output_type": "stream",
     "text": [
      "<class 'pandas.core.frame.DataFrame'>\n",
      "Int64Index: 7622 entries, 0 to 1329\n",
      "Data columns (total 10 columns):\n",
      " #   Column        Non-Null Count  Dtype  \n",
      "---  ------        --------------  -----  \n",
      " 0   size          7622 non-null   object \n",
      " 1   propertyType  7622 non-null   object \n",
      " 2   bedrooms      7622 non-null   object \n",
      " 3   latitude      7622 non-null   float64\n",
      " 4   longitude     7622 non-null   float64\n",
      " 5   localityName  7622 non-null   object \n",
      " 6   suburbName    7622 non-null   object \n",
      " 7   cityName      7622 non-null   object \n",
      " 8   price         7622 non-null   object \n",
      " 9   companyName   7622 non-null   object \n",
      "dtypes: float64(2), object(8)\n",
      "memory usage: 655.0+ KB\n"
     ]
    }
   ],
   "source": [
    "rent_data.info()"
   ]
  },
  {
   "cell_type": "code",
   "execution_count": 2,
   "metadata": {},
   "outputs": [],
   "source": [
    "import seaborn as sns"
   ]
  },
  {
   "cell_type": "code",
   "execution_count": 3,
   "metadata": {},
   "outputs": [],
   "source": [
    "rent_data= pd.read_csv('Rent_data_makaan.csv')"
   ]
  },
  {
   "cell_type": "code",
   "execution_count": 5,
   "metadata": {},
   "outputs": [
    {
     "data": {
      "text/plain": [
       "<matplotlib.axes._subplots.AxesSubplot at 0x105c5cf60>"
      ]
     },
     "execution_count": 5,
     "metadata": {},
     "output_type": "execute_result"
    },
    {
     "data": {
      "image/png": "[encoded data removed]",
      "text/plain": [
       "<Figure size 432x288 with 1 Axes>"
      ]
     },
     "metadata": {
      "needs_background": "light"
     },
     "output_type": "display_data"
    }
   ],
   "source": [
    "sns.countplot(x = 'bedrooms', data = rent_data)"
   ]
  },
  {
   "cell_type": "code",
   "execution_count": 6,
   "metadata": {},
   "outputs": [
    {
     "data": {
      "text/plain": [
       "<matplotlib.axes._subplots.AxesSubplot at 0x1215a1f28>"
      ]
     },
     "execution_count": 6,
     "metadata": {},
     "output_type": "execute_result"
    },
    {
     "data": {
      "image/png": "[encoded data removed]",
      "text/plain": [
       "<Figure size 432x288 with 1 Axes>"
      ]
     },
     "metadata": {
      "needs_background": "light"
     },
     "output_type": "display_data"
    }
   ],
   "source": [
    "sns.countplot(x = 'propertyType', data = rent_data)"
   ]
  },
  {
   "cell_type": "code",
   "execution_count": 16,
   "metadata": {},
   "outputs": [
    {
     "ename": "KeyError",
     "evalue": "'Passing list-likes to .loc or [] with any missing labels is no longer supported, see https://pandas.pydata.org/pandas-docs/stable/user_guide/indexing.html#deprecate-loc-reindex-listlike'",
     "output_type": "error",
     "traceback": [
      "\u001b[0;31m---------------------------------------------------------------------------\u001b[0m",
      "\u001b[0;31mKeyError\u001b[0m                                  Traceback (most recent call last)",
      "\u001b[0;32m<ipython-input-16-8dfad3d9be8d>\u001b[0m in \u001b[0;36m<module>\u001b[0;34m()\u001b[0m\n\u001b[1;32m      1\u001b[0m \u001b[0;31m# rent size in square feet\u001b[0m\u001b[0;34m\u001b[0m\u001b[0;34m\u001b[0m\u001b[0m\n\u001b[0;32m----> 2\u001b[0;31m \u001b[0mrent_data\u001b[0m\u001b[0;34m[\u001b[0m\u001b[0;34m[\u001b[0m\u001b[0;34m'size'\u001b[0m\u001b[0;34m,\u001b[0m \u001b[0;34m'sz_unit1'\u001b[0m\u001b[0;34m,\u001b[0m \u001b[0;34m'sz_uni2'\u001b[0m\u001b[0;34m]\u001b[0m\u001b[0;34m]\u001b[0m \u001b[0;34m=\u001b[0m \u001b[0mrent_data\u001b[0m\u001b[0;34m[\u001b[0m\u001b[0;34m'size'\u001b[0m\u001b[0;34m]\u001b[0m\u001b[0;34m.\u001b[0m\u001b[0mstr\u001b[0m\u001b[0;34m.\u001b[0m\u001b[0msplit\u001b[0m\u001b[0;34m(\u001b[0m\u001b[0;34m' '\u001b[0m\u001b[0;34m)\u001b[0m\u001b[0;34m\u001b[0m\u001b[0m\n\u001b[0m",
      "\u001b[0;32m/Library/Frameworks/Python.framework/Versions/3.6/lib/python3.6/site-packages/pandas/core/frame.py\u001b[0m in \u001b[0;36m__setitem__\u001b[0;34m(self, key, value)\u001b[0m\n\u001b[1;32m   2933\u001b[0m             \u001b[0mself\u001b[0m\u001b[0;34m.\u001b[0m\u001b[0m_setitem_frame\u001b[0m\u001b[0;34m(\u001b[0m\u001b[0mkey\u001b[0m\u001b[0;34m,\u001b[0m \u001b[0mvalue\u001b[0m\u001b[0;34m)\u001b[0m\u001b[0;34m\u001b[0m\u001b[0m\n\u001b[1;32m   2934\u001b[0m         \u001b[0;32melif\u001b[0m \u001b[0misinstance\u001b[0m\u001b[0;34m(\u001b[0m\u001b[0mkey\u001b[0m\u001b[0;34m,\u001b[0m \u001b[0;34m(\u001b[0m\u001b[0mSeries\u001b[0m\u001b[0;34m,\u001b[0m \u001b[0mnp\u001b[0m\u001b[0;34m.\u001b[0m\u001b[0mndarray\u001b[0m\u001b[0;34m,\u001b[0m \u001b[0mlist\u001b[0m\u001b[0;34m,\u001b[0m \u001b[0mIndex\u001b[0m\u001b[0;34m)\u001b[0m\u001b[0;34m)\u001b[0m\u001b[0;34m:\u001b[0m\u001b[0;34m\u001b[0m\u001b[0m\n\u001b[0;32m-> 2935\u001b[0;31m             \u001b[0mself\u001b[0m\u001b[0;34m.\u001b[0m\u001b[0m_setitem_array\u001b[0m\u001b[0;34m(\u001b[0m\u001b[0mkey\u001b[0m\u001b[0;34m,\u001b[0m \u001b[0mvalue\u001b[0m\u001b[0;34m)\u001b[0m\u001b[0;34m\u001b[0m\u001b[0m\n\u001b[0m\u001b[1;32m   2936\u001b[0m         \u001b[0;32melse\u001b[0m\u001b[0;34m:\u001b[0m\u001b[0;34m\u001b[0m\u001b[0m\n\u001b[1;32m   2937\u001b[0m             \u001b[0;31m# set column\u001b[0m\u001b[0;34m\u001b[0m\u001b[0;34m\u001b[0m\u001b[0m\n",
      "\u001b[0;32m/Library/Frameworks/Python.framework/Versions/3.6/lib/python3.6/site-packages/pandas/core/frame.py\u001b[0m in \u001b[0;36m_setitem_array\u001b[0;34m(self, key, value)\u001b[0m\n\u001b[1;32m   2964\u001b[0m             \u001b[0;32melse\u001b[0m\u001b[0;34m:\u001b[0m\u001b[0;34m\u001b[0m\u001b[0m\n\u001b[1;32m   2965\u001b[0m                 indexer = self.loc._get_listlike_indexer(\n\u001b[0;32m-> 2966\u001b[0;31m                     \u001b[0mkey\u001b[0m\u001b[0;34m,\u001b[0m \u001b[0maxis\u001b[0m\u001b[0;34m=\u001b[0m\u001b[0;36m1\u001b[0m\u001b[0;34m,\u001b[0m \u001b[0mraise_missing\u001b[0m\u001b[0;34m=\u001b[0m\u001b[0;32mFalse\u001b[0m\u001b[0;34m\u001b[0m\u001b[0m\n\u001b[0m\u001b[1;32m   2967\u001b[0m                 )[1]\n\u001b[1;32m   2968\u001b[0m                 \u001b[0mself\u001b[0m\u001b[0;34m.\u001b[0m\u001b[0m_check_setitem_copy\u001b[0m\u001b[0;34m(\u001b[0m\u001b[0;34m)\u001b[0m\u001b[0;34m\u001b[0m\u001b[0m\n",
      "\u001b[0;32m/Library/Frameworks/Python.framework/Versions/3.6/lib/python3.6/site-packages/pandas/core/indexing.py\u001b[0m in \u001b[0;36m_get_listlike_indexer\u001b[0;34m(self, key, axis, raise_missing)\u001b[0m\n\u001b[1;32m   1551\u001b[0m \u001b[0;34m\u001b[0m\u001b[0m\n\u001b[1;32m   1552\u001b[0m         self._validate_read_indexer(\n\u001b[0;32m-> 1553\u001b[0;31m             \u001b[0mkeyarr\u001b[0m\u001b[0;34m,\u001b[0m \u001b[0mindexer\u001b[0m\u001b[0;34m,\u001b[0m \u001b[0mo\u001b[0m\u001b[0;34m.\u001b[0m\u001b[0m_get_axis_number\u001b[0m\u001b[0;34m(\u001b[0m\u001b[0maxis\u001b[0m\u001b[0;34m)\u001b[0m\u001b[0;34m,\u001b[0m \u001b[0mraise_missing\u001b[0m\u001b[0;34m=\u001b[0m\u001b[0mraise_missing\u001b[0m\u001b[0;34m\u001b[0m\u001b[0m\n\u001b[0m\u001b[1;32m   1554\u001b[0m         )\n\u001b[1;32m   1555\u001b[0m         \u001b[0;32mreturn\u001b[0m \u001b[0mkeyarr\u001b[0m\u001b[0;34m,\u001b[0m \u001b[0mindexer\u001b[0m\u001b[0;34m\u001b[0m\u001b[0m\n",
      "\u001b[0;32m/Library/Frameworks/Python.framework/Versions/3.6/lib/python3.6/site-packages/pandas/core/indexing.py\u001b[0m in \u001b[0;36m_validate_read_indexer\u001b[0;34m(self, key, indexer, axis, raise_missing)\u001b[0m\n\u001b[1;32m   1653\u001b[0m             \u001b[0;32mif\u001b[0m \u001b[0;32mnot\u001b[0m \u001b[0;34m(\u001b[0m\u001b[0max\u001b[0m\u001b[0;34m.\u001b[0m\u001b[0mis_categorical\u001b[0m\u001b[0;34m(\u001b[0m\u001b[0;34m)\u001b[0m \u001b[0;32mor\u001b[0m \u001b[0max\u001b[0m\u001b[0;34m.\u001b[0m\u001b[0mis_interval\u001b[0m\u001b[0;34m(\u001b[0m\u001b[0;34m)\u001b[0m\u001b[0;34m)\u001b[0m\u001b[0;34m:\u001b[0m\u001b[0;34m\u001b[0m\u001b[0m\n\u001b[1;32m   1654\u001b[0m                 raise KeyError(\n\u001b[0;32m-> 1655\u001b[0;31m                     \u001b[0;34m\"Passing list-likes to .loc or [] with any missing labels \"\u001b[0m\u001b[0;34m\u001b[0m\u001b[0m\n\u001b[0m\u001b[1;32m   1656\u001b[0m                     \u001b[0;34m\"is no longer supported, see \"\u001b[0m\u001b[0;34m\u001b[0m\u001b[0m\n\u001b[1;32m   1657\u001b[0m                     \u001b[0;34m\"https://pandas.pydata.org/pandas-docs/stable/user_guide/indexing.html#deprecate-loc-reindex-listlike\"\u001b[0m  \u001b[0;31m# noqa:E501\u001b[0m\u001b[0;34m\u001b[0m\u001b[0m\n",
      "\u001b[0;31mKeyError\u001b[0m: 'Passing list-likes to .loc or [] with any missing labels is no longer supported, see https://pandas.pydata.org/pandas-docs/stable/user_guide/indexing.html#deprecate-loc-reindex-listlike'"
     ]
    }
   ],
   "source": [
    "# rent size in square feet\n",
    "rent_data.assign[['size', 'sz_unit1', 'sz_uni2']] = rent_data['size'].str.split(' ')"
   ]
  },
  {
   "cell_type": "code",
   "execution_count": 25,
   "metadata": {},
   "outputs": [
    {
     "data": {
      "text/plain": [
       "Jagdamba Associates                     248\n",
       "Arora Associates                        238\n",
       "Guru kipra properties                   161\n",
       "Sky Properties                          148\n",
       "Prince Associates                       148\n",
       "                                       ... \n",
       "SHREE KRISHNA PROPERTIES                 12\n",
       "Shubham Home Solutions                   12\n",
       "Individual Agent                         11\n",
       "rajesh garg luxmi property pitampura     11\n",
       "Dream house properties                   11\n",
       "Name: companyName, Length: 137, dtype: int64"
      ]
     },
     "execution_count": 25,
     "metadata": {},
     "output_type": "execute_result"
    }
   ],
   "source": [
    "# agents/companies with greater than 5 listings\n",
    "rent_data.companyName.value_counts()[rent_data.companyName.value_counts() > 10]"
   ]
  },
  {
   "cell_type": "code",
   "execution_count": 22,
   "metadata": {},
   "outputs": [
    {
     "data": {
      "text/plain": [
       "Paschim Vihar          868\n",
       "Pitampura              628\n",
       "mayur vihar phase 1    591\n",
       "New Ashok Nagar        441\n",
       "Uttam Nagar            337\n",
       "                      ... \n",
       "Yamuna Vihar             1\n",
       "Ganesh Nagar             1\n",
       "Meera Bagh               1\n",
       "param puri               1\n",
       "Mukhram Garden           1\n",
       "Name: localityName, Length: 160, dtype: int64"
      ]
     },
     "execution_count": 22,
     "metadata": {},
     "output_type": "execute_result"
    }
   ],
   "source": [
    "rent_data.localityName.value_counts()"
   ]
  },
  {
   "cell_type": "code",
   "execution_count": null,
   "metadata": {},
   "outputs": [],
   "source": []
  },
  {
   "cell_type": "code",
   "execution_count": null,
   "metadata": {},
   "outputs": [],
   "source": []
  },
  {
   "cell_type": "code",
   "execution_count": null,
   "metadata": {},
   "outputs": [],
   "source": []
  },
  {
   "cell_type": "code",
   "execution_count": null,
   "metadata": {},
   "outputs": [],
   "source": []
  },
  {
   "cell_type": "code",
   "execution_count": 4,
   "metadata": {},
   "outputs": [
    {
     "name": "stdout",
     "output_type": "stream",
     "text": [
      "200\n"
     ]
    }
   ],
   "source": [
    "import requests\n",
    "\n",
    "#fetch the webpage\n",
    "\n",
    "page = requests.get(webpage_3)\n",
    "\n",
    "# returns a response object. \n",
    "\n",
    "print(page.status_code)\n",
    "\n",
    "from bs4 import BeautifulSoup\n",
    "# Beautiful Soup can be used to extract information from HTML pagess, downloaded ones too\n",
    "\n",
    "# send HTML content of page to BeautifulSoup object, invoke html parser\n",
    "\n",
    "soup = BeautifulSoup(page.content, 'html.parser')"
   ]
  },
  {
   "cell_type": "code",
   "execution_count": 25,
   "metadata": {},
   "outputs": [],
   "source": [
    "# Alternatively find list of listings \n",
    "\n",
    "house_data = soup.find_all('li', class_=\"cardholder\")"
   ]
  },
  {
   "cell_type": "code",
   "execution_count": 34,
   "metadata": {},
   "outputs": [
    {
     "data": {
      "text/plain": [
       "21"
      ]
     },
     "execution_count": 34,
     "metadata": {},
     "output_type": "execute_result"
    }
   ],
   "source": [
    "len(house_data)"
   ]
  },
  {
   "cell_type": "code",
   "execution_count": 147,
   "metadata": {},
   "outputs": [
    {
     "data": {
      "text/plain": [
       "'{\"selector\":\"listing_9815613\",\"sellerType\":\"AGENT\",\"companyType\":\"AGENT\",\"companyId\":2220534,\"companyUserId\":18478407,\"backgroundColor\":\"#dfeddd\",\"textColor\":\"#fff\",\"nameText\":\"N\",\"companyName\":\"Nestaway Technologies Pvt Ltd\",\"companyRating\":0,\"verificationDate\":1584383400000,\"serverTime\":1591385342733,\"listingUrl\":\"https://www.makaan.com/delhi/builder-project-in-mandawali-9815613/2bhk-1t-800-sqft-independenthouse-for-rent\",\"imageUrl\":\"https://static.makaan.com/17/9815613/283/44631912.jpeg?width=460&amp;height=260\",\"id\":9815613,\"propertyId\":10787183,\"projectId\":752815,\"projectName\":\"Project\",\"projectStatus\":\"Ready to move\",\"mainImageId\":\"\",\"imageCount\":2,\"latitude\":28.62464523,\"longitude\":77.29869843,\"localityName\":\"Mandawali\",\"suburbName\":\"Delhi East\",\"cityName\":\"Delhi\",\"localityUrl\":\"https://www.makaan.com/delhi/mandawali-real-estate-56867\",\"rank\":20,\"price\":22000,\"unitTypeId\":19,\"propertyType\":\"Independent House\",\"bedrooms\":2,\"isPlot\":false,\"isApartment\":false,\"localityId\":56867,\"suburbId\":10019,\"cityId\":6,\"listingScore\":4.18182,\"listingCategory\":\"Rental\",\"isCommercial\":\"\",\"size\":\"800 sq ft\",\"isRk\":false,\"isPentHouse\":false,\"isStudio\":false,\"defaultImageId\":\"\",\"sellerCallRatingCount\":0,\"sellerCompanyFeedbackCount\":0,\"isAccountLocked\":false,\"isPaidSeller\":false,\"sellerTransactionStatus\":{\"isExpertDealMaker\":false,\"isDealMaker\":false,\"typeLabel\":\"\"},\"isOriginalSearchResult\":true,\"isMakaanSelectSeller\":false,\"mainImageWidth\":1300,\"mainImageHeight\":850,\"leadType\":\"paid\",\"reraInfo\":\"N/A\",\"isMPMatchTagListing\":\"false\",\"listingDomain\":\"housing\"}'"
      ]
     },
     "execution_count": 147,
     "metadata": {},
     "output_type": "execute_result"
    }
   ],
   "source": [
    "list(house_data)[20].find_all('script', {\"type\":\"text/x-config\"})[0].text"
   ]
  },
  {
   "cell_type": "code",
   "execution_count": 130,
   "metadata": {},
   "outputs": [
    {
     "data": {
      "text/plain": [
       "'{\"selector\":\"listing_9815613\",\"sellerType\":\"AGENT\",\"companyType\":\"AGENT\",\"companyId\":2220534,\"companyUserId\":18478407,\"backgroundColor\":\"#dfeddd\",\"textColor\":\"#fff\",\"nameText\":\"N\",\"companyName\":\"Nestaway Technologies Pvt Ltd\",\"companyRating\":0,\"verificationDate\":1584383400000,\"serverTime\":1591385342733,\"listingUrl\":\"https://www.makaan.com/delhi/builder-project-in-mandawali-9815613/2bhk-1t-800-sqft-independenthouse-for-rent\",\"imageUrl\":\"https://static.makaan.com/17/9815613/283/44631912.jpeg?width=460&amp;height=260\",\"id\":9815613,\"propertyId\":10787183,\"projectId\":752815,\"projectName\":\"Project\",\"projectStatus\":\"Ready to move\",\"mainImageId\":\"\",\"imageCount\":2,\"latitude\":28.62464523,\"longitude\":77.29869843,\"localityName\":\"Mandawali\",\"suburbName\":\"Delhi East\",\"cityName\":\"Delhi\",\"localityUrl\":\"https://www.makaan.com/delhi/mandawali-real-estate-56867\",\"rank\":20,\"price\":22000,\"unitTypeId\":19,\"propertyType\":\"Independent House\",\"bedrooms\":2,\"isPlot\":false,\"isApartment\":false,\"localityId\":56867,\"suburbId\":10019,\"cityId\":6,\"listingScore\":4.18182,\"listingCategory\":\"Rental\",\"isCommercial\":\"\",\"size\":\"800 sq ft\",\"isRk\":false,\"isPentHouse\":false,\"isStudio\":false,\"defaultImageId\":\"\",\"sellerCallRatingCount\":0,\"sellerCompanyFeedbackCount\":0,\"isAccountLocked\":false,\"isPaidSeller\":false,\"sellerTransactionStatus\":{\"isExpertDealMaker\":false,\"isDealMaker\":false,\"typeLabel\":\"\"},\"isOriginalSearchResult\":true,\"isMakaanSelectSeller\":false,\"mainImageWidth\":1300,\"mainImageHeight\":850,\"leadType\":\"paid\",\"reraInfo\":\"N/A\",\"isMPMatchTagListing\":\"false\",\"listingDomain\":\"housing\"}'"
      ]
     },
     "execution_count": 130,
     "metadata": {},
     "output_type": "execute_result"
    }
   ],
   "source": [
    "# GEts the JSON for the Listing \n",
    "json_list = list(house_data)[20].find_all('script', {\"type\":\"text/x-config\"})[0].text\n",
    "json_list"
   ]
  },
  {
   "cell_type": "code",
   "execution_count": 62,
   "metadata": {},
   "outputs": [],
   "source": [
    "data = json.loads(json_list)"
   ]
  },
  {
   "cell_type": "code",
   "execution_count": 66,
   "metadata": {},
   "outputs": [
    {
     "data": {
      "text/plain": [
       "{'selector': 'listing_10043180',\n",
       " 'sellerType': 'AGENT',\n",
       " 'companyType': 'AGENT',\n",
       " 'companyId': 1915204,\n",
       " 'companyUserId': 17336503,\n",
       " 'companyImage': 'https://static.makaan.com/11/1915204/289/45143264.jpeg?width=130&amp;height=100',\n",
       " 'backgroundColor': '#e2dded',\n",
       " 'textColor': '#fff',\n",
       " 'nameText': 'R',\n",
       " 'companyName': 'Rupak Properties Stock',\n",
       " 'companyRating': 3.2,\n",
       " 'verificationDate': 1588185000000,\n",
       " 'serverTime': 1591385342728,\n",
       " 'listingUrl': 'https://www.makaan.com/delhi/builder-project-in-mayur-vihar-phase-1-10043180/2bhk-2t-1050-sqft-apartment-for-rent',\n",
       " 'imageUrl': 'https://static.makaan.com/17/0/569/31067393.jpeg?width=460&amp;height=260',\n",
       " 'id': 10043180,\n",
       " 'propertyId': 10084814,\n",
       " 'projectId': 1408461,\n",
       " 'projectName': 'Project',\n",
       " 'projectStatus': 'Ready to move',\n",
       " 'mainImageId': '',\n",
       " 'imageCount': 0,\n",
       " 'latitude': 28.5949688,\n",
       " 'longitude': 77.29866791,\n",
       " 'localityName': 'mayur vihar phase 1',\n",
       " 'suburbName': 'Delhi East',\n",
       " 'cityName': 'Delhi',\n",
       " 'localityUrl': 'https://www.makaan.com/delhi/mayur-vihar-phase-1-real-estate-65941',\n",
       " 'rank': 2,\n",
       " 'price': 20000,\n",
       " 'unitTypeId': 1,\n",
       " 'propertyType': 'Apartment',\n",
       " 'bedrooms': 2,\n",
       " 'isPlot': False,\n",
       " 'isApartment': True,\n",
       " 'localityId': 65941,\n",
       " 'suburbId': 10019,\n",
       " 'cityId': 6,\n",
       " 'listingScore': 5.09091,\n",
       " 'listingCategory': 'Rental',\n",
       " 'isCommercial': '',\n",
       " 'size': '1,050 sq ft',\n",
       " 'isRk': False,\n",
       " 'isPentHouse': False,\n",
       " 'isStudio': False,\n",
       " 'defaultImageId': '',\n",
       " 'sellerCallRatingCount': 0,\n",
       " 'sellerCompanyFeedbackCount': 0,\n",
       " 'isAccountLocked': False,\n",
       " 'isPaidSeller': False,\n",
       " 'sellerTransactionStatus': {'isExpertDealMaker': False,\n",
       "  'isDealMaker': False,\n",
       "  'typeLabel': ''},\n",
       " 'isOriginalSearchResult': True,\n",
       " 'isMakaanSelectSeller': False,\n",
       " 'mainImageWidth': 584,\n",
       " 'mainImageHeight': 330,\n",
       " 'leadType': 'paid',\n",
       " 'reraInfo': 'N/A',\n",
       " 'isMPMatchTagListing': 'false',\n",
       " 'listingDomain': 'housing'}"
      ]
     },
     "execution_count": 66,
     "metadata": {},
     "output_type": "execute_result"
    }
   ],
   "source": [
    "data"
   ]
  },
  {
   "cell_type": "markdown",
   "metadata": {},
   "source": [
    "Hoping to get the columns \n",
    "1. Surface Size - \"size\":\"1,500 sq ft\"\n",
    "2. Type of house - \"propertyType\":\"Independent House\",\n",
    "3. Number of Bedrooms - \"bedrooms\":2\n",
    "3. If the apartment comes furnished (binary) - can't find it in json\n",
    "4. If the price is inclusive of utility bills (binary) - ca't find it in json\n",
    "5. Distance to City Center - 'latitude': 28.5949688, and 'longitude' are available.\n",
    "6. Trendiness of the neighbourhood - ignored\n",
    "7. Rental Agency (binary) -  'companyName': 'Rupak Properties Stock',\n",
    "8. Target - price -  'price': 20000,\n",
    "\n",
    "9. No. of bathrooms in listing html\n",
    "10. Direction which it faces in html\n",
    "11. Deposit in html\n",
    "12. Furnishing Status in html"
   ]
  },
  {
   "cell_type": "code",
   "execution_count": 70,
   "metadata": {},
   "outputs": [
    {
     "data": {
      "text/plain": [
       "2"
      ]
     },
     "execution_count": 70,
     "metadata": {},
     "output_type": "execute_result"
    }
   ],
   "source": [
    "'latitude': 28.5949688,\n",
    "'longitude': 77.29866791,\n",
    "'localityName': 'mayur vihar phase 1',\n",
    "'suburbName': 'Delhi East',\n",
    "'cityName': 'Delhi',\n",
    "'price': 20000,\n",
    "'companyName': 'Rupak Properties Stock',  \n",
    "    \n",
    "data['size']\n",
    "data['propertyType']\n",
    "data[\"bedrooms\"]\n",
    "data['latitude']\n",
    "data['longitude']\n",
    "data['localityName']\n",
    "data['suburbName']\n",
    "data['cityName']\n",
    "data['price']\n",
    "data['companyName']"
   ]
  },
  {
   "cell_type": "markdown",
   "metadata": {},
   "source": [
    "### Using Scraper Module"
   ]
  },
  {
   "cell_type": "code",
   "execution_count": 2,
   "metadata": {},
   "outputs": [],
   "source": [
    "from Scraper.Makaan_scraper import fetch_listings, remove_ads, json_to_df, listings_to_df"
   ]
  },
  {
   "cell_type": "code",
   "execution_count": 3,
   "metadata": {},
   "outputs": [],
   "source": [
    "webpage_east = 'https://www.makaan.com/delhi/delhi-east-flats-for-rent-10019?page=1'\n",
    "#east_delhi = fetch_listings(webpage_east, num_pages=100)\n",
    "#clean_east_delhi = remove_adds(east_delhi)\n",
    "#east_delhi_df = json_to_df(clean_east_delhi)"
   ]
  },
  {
   "cell_type": "code",
   "execution_count": 4,
   "metadata": {},
   "outputs": [
    {
     "data": {
      "text/html": [
       "<div>\n",
       "<style scoped>\n",
       "    .dataframe tbody tr th:only-of-type {\n",
       "        vertical-align: middle;\n",
       "    }\n",
       "\n",
       "    .dataframe tbody tr th {\n",
       "        vertical-align: top;\n",
       "    }\n",
       "\n",
       "    .dataframe thead th {\n",
       "        text-align: right;\n",
       "    }\n",
       "</style>\n",
       "<table border=\"1\" class=\"dataframe\">\n",
       "  <thead>\n",
       "    <tr style=\"text-align: right;\">\n",
       "      <th></th>\n",
       "      <th>size</th>\n",
       "      <th>propertyType</th>\n",
       "      <th>bedrooms</th>\n",
       "      <th>latitude</th>\n",
       "      <th>longitude</th>\n",
       "      <th>localityName</th>\n",
       "      <th>suburbName</th>\n",
       "      <th>cityName</th>\n",
       "      <th>price</th>\n",
       "      <th>companyName</th>\n",
       "    </tr>\n",
       "  </thead>\n",
       "  <tbody>\n",
       "    <tr>\n",
       "      <th>0</th>\n",
       "      <td>400 sq ft</td>\n",
       "      <td>Independent Floor</td>\n",
       "      <td>1</td>\n",
       "      <td>28.641010</td>\n",
       "      <td>77.284386</td>\n",
       "      <td>Swasthya Vihar</td>\n",
       "      <td>Delhi East</td>\n",
       "      <td>Delhi</td>\n",
       "      <td>9000</td>\n",
       "      <td>Dream Homez</td>\n",
       "    </tr>\n",
       "    <tr>\n",
       "      <th>1</th>\n",
       "      <td>1,050 sq ft</td>\n",
       "      <td>Apartment</td>\n",
       "      <td>2</td>\n",
       "      <td>28.594969</td>\n",
       "      <td>77.298668</td>\n",
       "      <td>mayur vihar phase 1</td>\n",
       "      <td>Delhi East</td>\n",
       "      <td>Delhi</td>\n",
       "      <td>20000</td>\n",
       "      <td>Rupak Properties Stock</td>\n",
       "    </tr>\n",
       "    <tr>\n",
       "      <th>2</th>\n",
       "      <td>2,250 sq ft</td>\n",
       "      <td>Independent Floor</td>\n",
       "      <td>2</td>\n",
       "      <td>28.641806</td>\n",
       "      <td>77.293922</td>\n",
       "      <td>Swasthya Vihar</td>\n",
       "      <td>Delhi East</td>\n",
       "      <td>Delhi</td>\n",
       "      <td>28000</td>\n",
       "      <td>Aashiyana Real Estate</td>\n",
       "    </tr>\n",
       "    <tr>\n",
       "      <th>3</th>\n",
       "      <td>1,350 sq ft</td>\n",
       "      <td>Independent Floor</td>\n",
       "      <td>2</td>\n",
       "      <td>28.644363</td>\n",
       "      <td>77.293228</td>\n",
       "      <td>Krishna Nagar</td>\n",
       "      <td>Delhi East</td>\n",
       "      <td>Delhi</td>\n",
       "      <td>28000</td>\n",
       "      <td>Shivam Real Estate</td>\n",
       "    </tr>\n",
       "    <tr>\n",
       "      <th>4</th>\n",
       "      <td>450 sq ft</td>\n",
       "      <td>Apartment</td>\n",
       "      <td>2</td>\n",
       "      <td>28.594736</td>\n",
       "      <td>77.311150</td>\n",
       "      <td>New Ashok Nagar</td>\n",
       "      <td>Delhi East</td>\n",
       "      <td>Delhi</td>\n",
       "      <td>12500</td>\n",
       "      <td>Shree Properties</td>\n",
       "    </tr>\n",
       "    <tr>\n",
       "      <th>5</th>\n",
       "      <td>600 sq ft</td>\n",
       "      <td>Independent House</td>\n",
       "      <td>2</td>\n",
       "      <td>28.592464</td>\n",
       "      <td>77.305161</td>\n",
       "      <td>New Ashok Nagar</td>\n",
       "      <td>Delhi East</td>\n",
       "      <td>Delhi</td>\n",
       "      <td>10000</td>\n",
       "      <td>Golden Properties</td>\n",
       "    </tr>\n",
       "    <tr>\n",
       "      <th>6</th>\n",
       "      <td>600 sq ft</td>\n",
       "      <td>Independent Floor</td>\n",
       "      <td>2</td>\n",
       "      <td>28.593500</td>\n",
       "      <td>77.305550</td>\n",
       "      <td>New Ashok Nagar</td>\n",
       "      <td>Delhi East</td>\n",
       "      <td>Delhi</td>\n",
       "      <td>12000</td>\n",
       "      <td>Welcome Properties</td>\n",
       "    </tr>\n",
       "    <tr>\n",
       "      <th>7</th>\n",
       "      <td>900 sq ft</td>\n",
       "      <td>Independent Floor</td>\n",
       "      <td>2</td>\n",
       "      <td>28.603546</td>\n",
       "      <td>77.291054</td>\n",
       "      <td>mayur vihar phase 1</td>\n",
       "      <td>Delhi East</td>\n",
       "      <td>Delhi</td>\n",
       "      <td>15500</td>\n",
       "      <td>Akash Properties</td>\n",
       "    </tr>\n",
       "    <tr>\n",
       "      <th>8</th>\n",
       "      <td>680 sq ft</td>\n",
       "      <td>Independent Floor</td>\n",
       "      <td>2</td>\n",
       "      <td>28.604111</td>\n",
       "      <td>77.289581</td>\n",
       "      <td>mayur vihar phase 1</td>\n",
       "      <td>Delhi East</td>\n",
       "      <td>Delhi</td>\n",
       "      <td>13000</td>\n",
       "      <td>Shivam Properties</td>\n",
       "    </tr>\n",
       "    <tr>\n",
       "      <th>9</th>\n",
       "      <td>360 sq ft</td>\n",
       "      <td>Independent Floor</td>\n",
       "      <td>1</td>\n",
       "      <td>28.590857</td>\n",
       "      <td>77.305252</td>\n",
       "      <td>New Ashok Nagar</td>\n",
       "      <td>Delhi East</td>\n",
       "      <td>Delhi</td>\n",
       "      <td>8500</td>\n",
       "      <td>Anand Properties</td>\n",
       "    </tr>\n",
       "    <tr>\n",
       "      <th>10</th>\n",
       "      <td>700 sq ft</td>\n",
       "      <td>Independent Floor</td>\n",
       "      <td>2</td>\n",
       "      <td>28.653259</td>\n",
       "      <td>77.301079</td>\n",
       "      <td>Anand Vihar</td>\n",
       "      <td>Delhi East</td>\n",
       "      <td>Delhi</td>\n",
       "      <td>11000</td>\n",
       "      <td>Tanya Associates</td>\n",
       "    </tr>\n",
       "    <tr>\n",
       "      <th>11</th>\n",
       "      <td>1,000 sq ft</td>\n",
       "      <td>Independent House</td>\n",
       "      <td>2</td>\n",
       "      <td>28.637342</td>\n",
       "      <td>77.293709</td>\n",
       "      <td>Preet Vihar</td>\n",
       "      <td>Delhi East</td>\n",
       "      <td>Delhi</td>\n",
       "      <td>14000</td>\n",
       "      <td>BK Associates</td>\n",
       "    </tr>\n",
       "    <tr>\n",
       "      <th>12</th>\n",
       "      <td>1,080 sq ft</td>\n",
       "      <td>Independent Floor</td>\n",
       "      <td>3</td>\n",
       "      <td>28.700300</td>\n",
       "      <td>77.271187</td>\n",
       "      <td>Shahdara</td>\n",
       "      <td>Delhi East</td>\n",
       "      <td>Delhi</td>\n",
       "      <td>15000</td>\n",
       "      <td>Hans Properties</td>\n",
       "    </tr>\n",
       "    <tr>\n",
       "      <th>13</th>\n",
       "      <td>3,000 sq ft</td>\n",
       "      <td>Independent Floor</td>\n",
       "      <td>3</td>\n",
       "      <td>28.677839</td>\n",
       "      <td>77.279182</td>\n",
       "      <td>Shahdara</td>\n",
       "      <td>Delhi East</td>\n",
       "      <td>Delhi</td>\n",
       "      <td>100000</td>\n",
       "      <td>Aaditya properties</td>\n",
       "    </tr>\n",
       "    <tr>\n",
       "      <th>14</th>\n",
       "      <td>450 sq ft</td>\n",
       "      <td>Independent House</td>\n",
       "      <td>1</td>\n",
       "      <td>28.600773</td>\n",
       "      <td>77.298622</td>\n",
       "      <td>mayur vihar phase 1</td>\n",
       "      <td>Delhi East</td>\n",
       "      <td>Delhi</td>\n",
       "      <td>9500</td>\n",
       "      <td>Prince Associates</td>\n",
       "    </tr>\n",
       "    <tr>\n",
       "      <th>15</th>\n",
       "      <td>500 sq ft</td>\n",
       "      <td>Independent House</td>\n",
       "      <td>1</td>\n",
       "      <td>28.628666</td>\n",
       "      <td>77.289940</td>\n",
       "      <td>Mandawali</td>\n",
       "      <td>Delhi East</td>\n",
       "      <td>Delhi</td>\n",
       "      <td>15000</td>\n",
       "      <td>JV Associates</td>\n",
       "    </tr>\n",
       "    <tr>\n",
       "      <th>16</th>\n",
       "      <td>1,000 sq ft</td>\n",
       "      <td>Independent Floor</td>\n",
       "      <td>2</td>\n",
       "      <td>28.644833</td>\n",
       "      <td>77.286316</td>\n",
       "      <td>Krishna Nagar</td>\n",
       "      <td>Delhi East</td>\n",
       "      <td>Delhi</td>\n",
       "      <td>16000</td>\n",
       "      <td>Arora Properties</td>\n",
       "    </tr>\n",
       "    <tr>\n",
       "      <th>17</th>\n",
       "      <td>390 sq ft</td>\n",
       "      <td>Independent House</td>\n",
       "      <td>1</td>\n",
       "      <td>28.591995</td>\n",
       "      <td>77.305405</td>\n",
       "      <td>New Ashok Nagar</td>\n",
       "      <td>Delhi East</td>\n",
       "      <td>Delhi</td>\n",
       "      <td>8500</td>\n",
       "      <td>Aradhya Properties</td>\n",
       "    </tr>\n",
       "    <tr>\n",
       "      <th>18</th>\n",
       "      <td>1,200 sq ft</td>\n",
       "      <td>Independent Floor</td>\n",
       "      <td>1</td>\n",
       "      <td>28.608938</td>\n",
       "      <td>77.299973</td>\n",
       "      <td>mayur vihar phase 1</td>\n",
       "      <td>Delhi East</td>\n",
       "      <td>Delhi</td>\n",
       "      <td>6500</td>\n",
       "      <td>Room Soom</td>\n",
       "    </tr>\n",
       "    <tr>\n",
       "      <th>19</th>\n",
       "      <td>800 sq ft</td>\n",
       "      <td>Independent House</td>\n",
       "      <td>2</td>\n",
       "      <td>28.624645</td>\n",
       "      <td>77.298698</td>\n",
       "      <td>Mandawali</td>\n",
       "      <td>Delhi East</td>\n",
       "      <td>Delhi</td>\n",
       "      <td>22000</td>\n",
       "      <td>Nestaway Technologies Pvt Ltd</td>\n",
       "    </tr>\n",
       "  </tbody>\n",
       "</table>\n",
       "</div>"
      ],
      "text/plain": [
       "           size       propertyType bedrooms   latitude  longitude         localityName  suburbName cityName   price                    companyName\n",
       "0     400 sq ft  Independent Floor        1  28.641010  77.284386       Swasthya Vihar  Delhi East    Delhi    9000                    Dream Homez\n",
       "1   1,050 sq ft          Apartment        2  28.594969  77.298668  mayur vihar phase 1  Delhi East    Delhi   20000         Rupak Properties Stock\n",
       "2   2,250 sq ft  Independent Floor        2  28.641806  77.293922       Swasthya Vihar  Delhi East    Delhi   28000          Aashiyana Real Estate\n",
       "3   1,350 sq ft  Independent Floor        2  28.644363  77.293228        Krishna Nagar  Delhi East    Delhi   28000             Shivam Real Estate\n",
       "4     450 sq ft          Apartment        2  28.594736  77.311150      New Ashok Nagar  Delhi East    Delhi   12500               Shree Properties\n",
       "5     600 sq ft  Independent House        2  28.592464  77.305161      New Ashok Nagar  Delhi East    Delhi   10000              Golden Properties\n",
       "6     600 sq ft  Independent Floor        2  28.593500  77.305550      New Ashok Nagar  Delhi East    Delhi   12000             Welcome Properties\n",
       "7     900 sq ft  Independent Floor        2  28.603546  77.291054  mayur vihar phase 1  Delhi East    Delhi   15500               Akash Properties\n",
       "8     680 sq ft  Independent Floor        2  28.604111  77.289581  mayur vihar phase 1  Delhi East    Delhi   13000              Shivam Properties\n",
       "9     360 sq ft  Independent Floor        1  28.590857  77.305252      New Ashok Nagar  Delhi East    Delhi    8500               Anand Properties\n",
       "10    700 sq ft  Independent Floor        2  28.653259  77.301079          Anand Vihar  Delhi East    Delhi   11000               Tanya Associates\n",
       "11  1,000 sq ft  Independent House        2  28.637342  77.293709          Preet Vihar  Delhi East    Delhi   14000                  BK Associates\n",
       "12  1,080 sq ft  Independent Floor        3  28.700300  77.271187             Shahdara  Delhi East    Delhi   15000                Hans Properties\n",
       "13  3,000 sq ft  Independent Floor        3  28.677839  77.279182             Shahdara  Delhi East    Delhi  100000             Aaditya properties\n",
       "14    450 sq ft  Independent House        1  28.600773  77.298622  mayur vihar phase 1  Delhi East    Delhi    9500              Prince Associates\n",
       "15    500 sq ft  Independent House        1  28.628666  77.289940            Mandawali  Delhi East    Delhi   15000                  JV Associates\n",
       "16  1,000 sq ft  Independent Floor        2  28.644833  77.286316        Krishna Nagar  Delhi East    Delhi   16000               Arora Properties\n",
       "17    390 sq ft  Independent House        1  28.591995  77.305405      New Ashok Nagar  Delhi East    Delhi    8500             Aradhya Properties\n",
       "18  1,200 sq ft  Independent Floor        1  28.608938  77.299973  mayur vihar phase 1  Delhi East    Delhi    6500                      Room Soom\n",
       "19    800 sq ft  Independent House        2  28.624645  77.298698            Mandawali  Delhi East    Delhi   22000  Nestaway Technologies Pvt Ltd"
      ]
     },
     "execution_count": 4,
     "metadata": {},
     "output_type": "execute_result"
    }
   ],
   "source": [
    "listings_to_df(webpage_east, num_pages=1)"
   ]
  }
 ],
 "metadata": {
  "kernelspec": {
   "display_name": "Python 3",
   "language": "python",
   "name": "python3"
  },
  "language_info": {
   "codemirror_mode": {
    "name": "ipython",
    "version": 3
   },
   "file_extension": ".py",
   "mimetype": "text/x-python",
   "name": "python",
   "nbconvert_exporter": "python",
   "pygments_lexer": "ipython3",
   "version": "3.6.4"
  }
 },
 "nbformat": 4,
 "nbformat_minor": 2
}
