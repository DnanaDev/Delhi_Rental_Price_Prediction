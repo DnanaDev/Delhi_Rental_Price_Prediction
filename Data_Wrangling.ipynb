{
 "cells": [
  {
   "cell_type": "markdown",
   "metadata": {},
   "source": [
    "## Data Wrangling/Cleaning/Feature Engineering"
   ]
  },
  {
   "cell_type": "markdown",
   "metadata": {},
   "source": [
    "Hoping to get the columns (available columns)\n",
    "1. Surface Size - \"size\":\"1,500 sq ft\"\n",
    "2. Type of house - \"propertyType\":\"Independent House\",\n",
    "3. Number of Bedrooms - \"bedrooms\":2\n",
    "3. If the apartment comes furnished (binary) - can't find it in json\n",
    "4. If the price is inclusive of utility bills (binary) - can't find it in json\n",
    "5. Distance to City Center - 'latitude': 28.5949688, and 'longitude' are available.\n",
    "6. Trendiness of the neighbourhood - ignored\n",
    "7. Rental Agency (binary) -  'companyName': 'Rupak Properties Stock',\n",
    "8. Target - price -  'price': 20000,\n",
    "\n",
    "9. Added distance from AIIMS, CP, AIRPORT. Look at closest metro station distance. \n",
    "9. No. of bathrooms in listing html\n",
    "10. Direction which it faces in html (could be imp - requires digging into the html again.)\n",
    "11. Deposit in html\n",
    "12. Furnishing Status in html (could be imp)"
   ]
  },
  {
   "cell_type": "markdown",
   "metadata": {},
   "source": [
    "## To DO: \n",
    "1. Plot the listings on a map. (Done)\n",
    "2. See if adding/augmenting with more data helps. (Doing, sort of helping.)\n",
    "3. Add closest metro station Distance.(Done, The variability of results is down)\n",
    "4. Add closest large hospital Distance. (Skipped for now)\n",
    "5. Create New Notebook And Do Analyis and Final Model Fitting.(Log transformation and feature scaling done.)\n",
    "6. Create clean pipeline for final Model.\n",
    "6. Create a simple functions for prediction or webpage with inputs, problem with one-hot encoded input to model. !60 different values for locality, from dropdown, pick one then function creates input acc. to index."
   ]
  },
  {
   "cell_type": "code",
   "execution_count": 1,
   "metadata": {},
   "outputs": [],
   "source": [
    "# Get the Scraped data and Engineer features, data type transformation etc. \n",
    "import pandas as pd\n",
    "import numpy as np\n",
    "import matplotlib.pyplot as plt\n",
    "import seaborn as sns\n",
    "import pymongo\n",
    "import os"
   ]
  },
  {
   "cell_type": "code",
   "execution_count": 2,
   "metadata": {},
   "outputs": [],
   "source": [
    "rent_data= pd.read_csv('Data/Rent_data_makaan.csv', index_col=0)\n",
    "# Index is messed up, doubled due to concatenating diff. dataframes. \n",
    "rent_data.reset_index(drop=True, inplace=True)"
   ]
  },
  {
   "cell_type": "markdown",
   "metadata": {},
   "source": [
    "### Remove duplicate entries "
   ]
  },
  {
   "cell_type": "code",
   "execution_count": null,
   "metadata": {},
   "outputs": [],
   "source": [
    " 'lN__dwarka sector 12',\n",
    " 'lN__dwarka sector 13',\n",
    " 'lN__dwarka sector 17',\n",
    " 'lN__dwarka sector 19',\n",
    " 'lN__greater kailash Enclave 1',\n",
    " 'lN__i p extension patparganj',\n",
    " 'lN__laxmi nagar near metro station',\n",
    " 'lN__mayur vihar phase 1',\n",
    " 'lN__nawada',\n",
    " 'lN__param puri',\n",
    " 'lN__ramphal chowk',\n",
    " 'lN__rohini sector 5'"
   ]
  },
  {
   "cell_type": "code",
   "execution_count": 3,
   "metadata": {},
   "outputs": [
    {
     "name": "stdout",
     "output_type": "stream",
     "text": [
      "627 Duplicates\n"
     ]
    }
   ],
   "source": [
    "# removing aroung 600 duplicate entries.\n",
    "print(f'{rent_data.duplicated().value_counts()[1]} Duplicates')\n",
    "rent_data = rent_data[~rent_data.duplicated()]\n",
    "rent_data.reset_index(drop=True, inplace=True)"
   ]
  },
  {
   "cell_type": "markdown",
   "metadata": {},
   "source": [
    "#### Size column\n",
    "1. Rename to include units.\n",
    "2. split the value and unuit and Change data type to int."
   ]
  },
  {
   "cell_type": "code",
   "execution_count": 4,
   "metadata": {},
   "outputs": [],
   "source": [
    "rent_data.rename({'size': 'size_sq_ft'}, axis = 1, inplace=True)\n",
    "rent_data.size_sq_ft = rent_data.size_sq_ft.str.replace(',', '',)\n",
    "size = rent_data.size_sq_ft.str.split(' ', expand=True)[0]\n",
    "rent_data.size_sq_ft = size\n",
    "rent_data.size_sq_ft = rent_data.size_sq_ft.astype('int32')"
   ]
  },
  {
   "cell_type": "code",
   "execution_count": 5,
   "metadata": {},
   "outputs": [
    {
     "data": {
      "image/png": "[encoded data removed]",
      "text/plain": [
       "<Figure size 432x288 with 1 Axes>"
      ]
     },
     "metadata": {
      "needs_background": "light"
     },
     "output_type": "display_data"
    }
   ],
   "source": [
    "plt.xlim(0, 5000)\n",
    "sns.distplot(rent_data.size_sq_ft, )\n",
    "plt.show()"
   ]
  },
  {
   "cell_type": "markdown",
   "metadata": {},
   "source": [
    "#### Property Type\n",
    "Just 4 types, managebale for One-hot encoding or for Tree Based Methods."
   ]
  },
  {
   "cell_type": "code",
   "execution_count": 22,
   "metadata": {},
   "outputs": [
    {
     "data": {
      "text/plain": [
       "Independent Floor    5058\n",
       "Apartment            1647\n",
       "Independent House     280\n",
       "Villa                  10\n",
       "Name: propertyType, dtype: int64"
      ]
     },
     "execution_count": 22,
     "metadata": {},
     "output_type": "execute_result"
    }
   ],
   "source": [
    "rent_data.propertyType.value_counts()"
   ]
  },
  {
   "cell_type": "markdown",
   "metadata": {},
   "source": [
    "#### Bedrooms is already int and a quantitative continuous var.\n",
    "Should be fine as is."
   ]
  },
  {
   "cell_type": "code",
   "execution_count": 23,
   "metadata": {},
   "outputs": [
    {
     "data": {
      "text/plain": [
       "2     2486\n",
       "1     2042\n",
       "3     2031\n",
       "4      406\n",
       "5       20\n",
       "6        6\n",
       "10       3\n",
       "7        1\n",
       "Name: bedrooms, dtype: int64"
      ]
     },
     "execution_count": 23,
     "metadata": {},
     "output_type": "execute_result"
    }
   ],
   "source": [
    "rent_data.bedrooms.value_counts()"
   ]
  },
  {
   "cell_type": "markdown",
   "metadata": {},
   "source": [
    "####  Latitude and Longitude\n",
    "Look at geopy to get this working, and to get the extra features you need/want based on location.\n",
    "Nice varied multimodal(different regions) distributions, cool."
   ]
  },
  {
   "cell_type": "code",
   "execution_count": 24,
   "metadata": {},
   "outputs": [
    {
     "data": {
      "image/png": "[encoded data removed]",
      "text/plain": [
       "<Figure size 432x288 with 1 Axes>"
      ]
     },
     "metadata": {
      "needs_background": "light"
     },
     "output_type": "display_data"
    }
   ],
   "source": [
    "sns.distplot(rent_data.latitude)\n",
    "plt.show()"
   ]
  },
  {
   "cell_type": "code",
   "execution_count": 25,
   "metadata": {},
   "outputs": [
    {
     "data": {
      "image/png": "[encoded data removed]",
      "text/plain": [
       "<Figure size 432x288 with 1 Axes>"
      ]
     },
     "metadata": {
      "needs_background": "light"
     },
     "output_type": "display_data"
    }
   ],
   "source": [
    "sns.distplot(rent_data.longitude)\n",
    "plt.show()"
   ]
  },
  {
   "cell_type": "code",
   "execution_count": 26,
   "metadata": {},
   "outputs": [
    {
     "data": {
      "image/png": "[encoded data removed]",
      "text/plain": [
       "<Figure size 432x288 with 1 Axes>"
      ]
     },
     "metadata": {
      "needs_background": "light"
     },
     "output_type": "display_data"
    }
   ],
   "source": [
    "for item in rent_data.suburbName.unique():\n",
    "    sns.distplot(rent_data.longitude.loc[rent_data.suburbName == item],label = item)\n",
    "plt.legend()\n",
    "plt.show()"
   ]
  },
  {
   "cell_type": "markdown",
   "metadata": {},
   "source": [
    "### localityName\n",
    "160 Values, have to get this down, lets filter < 5 as uncommon or drop ?.(96 now, just keep all) <br>\n",
    "1. As Uncommon (IMplication for Input ? - Other can be mapped to Uncommon) -  \n",
    "2. When Dropped -"
   ]
  },
  {
   "cell_type": "code",
   "execution_count": 27,
   "metadata": {},
   "outputs": [
    {
     "data": {
      "text/plain": [
       "Paschim Vihar          810\n",
       "Pitampura              613\n",
       "mayur vihar phase 1    516\n",
       "New Ashok Nagar        389\n",
       "Uttam Nagar            244\n",
       "                      ... \n",
       "Golf Links               6\n",
       "Vikas Marg               6\n",
       "Sector 18 Rohini         6\n",
       "Nirman Vihar             6\n",
       "Nizamuddin East          6\n",
       "Name: localityName, Length: 96, dtype: int64"
      ]
     },
     "execution_count": 27,
     "metadata": {},
     "output_type": "execute_result"
    }
   ],
   "source": [
    "rent_data.localityName.value_counts().loc[rent_data.localityName.value_counts() > 5]"
   ]
  },
  {
   "cell_type": "code",
   "execution_count": 28,
   "metadata": {},
   "outputs": [],
   "source": [
    "#redundant = rent_data.localityName.value_counts().loc[rent_data.localityName.value_counts() < 5].index.to_list()"
   ]
  },
  {
   "cell_type": "code",
   "execution_count": 29,
   "metadata": {},
   "outputs": [],
   "source": [
    "#for item in redundant:\n",
    "#    rent_data.loc[(rent_data.localityName == item),['localityName']] = 'Uncommon'"
   ]
  },
  {
   "cell_type": "markdown",
   "metadata": {},
   "source": [
    "#### cityName \n",
    "Useless column, drop."
   ]
  },
  {
   "cell_type": "code",
   "execution_count": 30,
   "metadata": {},
   "outputs": [
    {
     "data": {
      "text/plain": [
       "Delhi    6995\n",
       "Name: cityName, dtype: int64"
      ]
     },
     "execution_count": 30,
     "metadata": {},
     "output_type": "execute_result"
    }
   ],
   "source": [
    "rent_data.cityName.value_counts()"
   ]
  },
  {
   "cell_type": "markdown",
   "metadata": {},
   "source": [
    "#### suburbName\n",
    "Slight imbalance for a few Regions, that's okay though. Keep this column ? Train- Validation should be split by this colmun in similar ratio."
   ]
  },
  {
   "cell_type": "code",
   "execution_count": 31,
   "metadata": {},
   "outputs": [
    {
     "data": {
      "text/plain": [
       "Delhi South    1887\n",
       "West Delhi     1816\n",
       "Delhi East     1754\n",
       "North Delhi    1258\n",
       "Rohini          280\n",
       "Name: suburbName, dtype: int64"
      ]
     },
     "execution_count": 31,
     "metadata": {},
     "output_type": "execute_result"
    }
   ],
   "source": [
    "rent_data.suburbName.value_counts()"
   ]
  },
  {
   "cell_type": "markdown",
   "metadata": {},
   "source": [
    "#### Price (monthly)\n",
    "Already in int. Very Heavily skewed.(Outliers in target is a big problem)"
   ]
  },
  {
   "cell_type": "code",
   "execution_count": 32,
   "metadata": {},
   "outputs": [
    {
     "data": {
      "image/png": "[encoded data removed]",
      "text/plain": [
       "<Figure size 432x288 with 1 Axes>"
      ]
     },
     "metadata": {
      "needs_background": "light"
     },
     "output_type": "display_data"
    }
   ],
   "source": [
    "sns.distplot(rent_data.price )\n",
    "plt.show()"
   ]
  },
  {
   "cell_type": "code",
   "execution_count": 33,
   "metadata": {},
   "outputs": [
    {
     "data": {
      "image/png": "[encoded data removed]",
      "text/plain": [
       "<Figure size 432x288 with 1 Axes>"
      ]
     },
     "metadata": {
      "needs_background": "light"
     },
     "output_type": "display_data"
    }
   ],
   "source": [
    "# Atempting to model with log of price.\n",
    "sns.distplot(np.log(rent_data.price))\n",
    "plt.show()"
   ]
  },
  {
   "cell_type": "code",
   "execution_count": 34,
   "metadata": {},
   "outputs": [
    {
     "data": {
      "image/png": "[encoded data removed]",
      "text/plain": [
       "<Figure size 432x288 with 1 Axes>"
      ]
     },
     "metadata": {
      "needs_background": "light"
     },
     "output_type": "display_data"
    }
   ],
   "source": [
    "plt.xlim(0,100000)\n",
    "for item in rent_data.suburbName.unique():\n",
    "    sns.distplot(rent_data.price.loc[rent_data.suburbName == item], label = item)\n",
    "plt.legend()\n",
    "plt.show()"
   ]
  },
  {
   "cell_type": "code",
   "execution_count": 35,
   "metadata": {},
   "outputs": [
    {
     "data": {
      "image/png": "[encoded data removed]",
      "text/plain": [
       "<Figure size 432x288 with 1 Axes>"
      ]
     },
     "metadata": {
      "needs_background": "light"
     },
     "output_type": "display_data"
    }
   ],
   "source": [
    "#plt.xlim(0, 200000)\n",
    "sns.boxplot(rent_data.price )\n",
    "plt.show()"
   ]
  },
  {
   "cell_type": "code",
   "execution_count": 36,
   "metadata": {},
   "outputs": [
    {
     "data": {
      "image/png": "[encoded data removed]",
      "text/plain": [
       "<Figure size 432x288 with 1 Axes>"
      ]
     },
     "metadata": {
      "needs_background": "light"
     },
     "output_type": "display_data"
    }
   ],
   "source": [
    "sns.boxplot(np.log(rent_data.price))\n",
    "plt.show()"
   ]
  },
  {
   "cell_type": "code",
   "execution_count": 37,
   "metadata": {},
   "outputs": [],
   "source": [
    "log_price = np.log(rent_data.price)"
   ]
  },
  {
   "cell_type": "code",
   "execution_count": 38,
   "metadata": {},
   "outputs": [],
   "source": [
    "rent_data['price'] = log_price"
   ]
  },
  {
   "cell_type": "markdown",
   "metadata": {},
   "source": [
    "#### Company Name \n",
    "The agent/Realtor - 515 values.<br>\n",
    "With a minimum of 5 listings leaves us with 168 values.<br>\n",
    "With a minimum of 10 listings leaves us with 133 values.<br>\n",
    "Encoded people with fewer listings as 'independent' - (802 listings with independent)"
   ]
  },
  {
   "cell_type": "code",
   "execution_count": 39,
   "metadata": {},
   "outputs": [
    {
     "data": {
      "text/plain": [
       "Jagdamba Associates       247\n",
       "Arora Associates          233\n",
       "Prince Associates         146\n",
       "Guru kipra properties     136\n",
       "A 2 Z Property            127\n",
       "                         ... \n",
       "Shubham Home Solutions     12\n",
       "chopra build well          12\n",
       "Jrr Realtors Pvt Ltd       11\n",
       "BM PROPERTIES              11\n",
       "Dream house properties     11\n",
       "Name: companyName, Length: 133, dtype: int64"
      ]
     },
     "execution_count": 39,
     "metadata": {},
     "output_type": "execute_result"
    }
   ],
   "source": [
    "rent_data.companyName.value_counts().loc[rent_data.companyName.value_counts() > 10]"
   ]
  },
  {
   "cell_type": "code",
   "execution_count": 40,
   "metadata": {},
   "outputs": [],
   "source": [
    "redundant = rent_data.companyName.value_counts().loc[rent_data.companyName.value_counts() < 10].index.to_list()"
   ]
  },
  {
   "cell_type": "code",
   "execution_count": 41,
   "metadata": {},
   "outputs": [],
   "source": [
    "for item in redundant:\n",
    "    rent_data.loc[(rent_data.companyName == item),['companyName']] = 'Independent'"
   ]
  },
  {
   "cell_type": "markdown",
   "metadata": {},
   "source": [
    "### Visualising Rent Market Trends\n",
    "Using gmaps API. heat map layer that will tell us where the highest rents of the city are. <br>\n",
    "API key in environment Variable. "
   ]
  },
  {
   "cell_type": "code",
   "execution_count": 42,
   "metadata": {},
   "outputs": [],
   "source": [
    "import gmaps\n",
    "gmaps.configure(api_key=os.environ[\"GOOGLE_API_KEY\"])"
   ]
  },
  {
   "cell_type": "code",
   "execution_count": 44,
   "metadata": {
    "scrolled": false
   },
   "outputs": [
    {
     "data": {
      "application/vnd.jupyter.widget-view+json": {
       "model_id": "f263dc41d13c4ed1bba6ed410eae6b81",
       "version_major": 2,
       "version_minor": 0
      },
      "text/plain": [
       "Figure(layout=FigureLayout(height='420px'))"
      ]
     },
     "metadata": {},
     "output_type": "display_data"
    }
   ],
   "source": [
    "fig = gmaps.figure()\n",
    "\n",
    "heatmap_layer = gmaps.heatmap_layer(rent_data[['latitude', 'longitude']], \n",
    "                                   weights = rent_data['price'], \n",
    "                                    max_intensity = np.log(200000),\n",
    "                                    point_radius=6.0)\n",
    "\n",
    "fig.add_layer(heatmap_layer)\n",
    "fig"
   ]
  },
  {
   "cell_type": "code",
   "execution_count": 174,
   "metadata": {
    "scrolled": false
   },
   "outputs": [
    {
     "data": {
      "application/vnd.jupyter.widget-view+json": {
       "model_id": "a90f957e9345482cabbdd8975d338d1a",
       "version_major": 2,
       "version_minor": 0
      },
      "text/plain": [
       "Figure(layout=FigureLayout(height='420px'))"
      ]
     },
     "metadata": {},
     "output_type": "display_data"
    }
   ],
   "source": [
    "fig = gmaps.figure()\n",
    "\n",
    "heatmap_layer = gmaps.heatmap_layer(rent_data[['latitude', 'longitude']], \n",
    "                                   weights = rent_data['price'], \n",
    "                                    max_intensity = 200000,\n",
    "                                    point_radius=6.0)\n",
    "\n",
    "fig.add_layer(heatmap_layer)\n",
    "fig"
   ]
  },
  {
   "cell_type": "markdown",
   "metadata": {},
   "source": [
    "### Metro stations data\n",
    "Grabbing nearest metro station distance :\n",
    "1. Current implementation is getting distances for all listing from all the stations and keeping nearest. Calc - keep - filter\n",
    "2. Do in single function: Calc - filter - keep"
   ]
  },
  {
   "cell_type": "code",
   "execution_count": 47,
   "metadata": {},
   "outputs": [],
   "source": [
    "# import pymongo\n",
    "client = pymongo.MongoClient('mongodb://127.0.0.1:27017/')\n",
    "db = client['Makaan_rental_listings']\n",
    "metro_data = db.Delhi_metro_stations"
   ]
  },
  {
   "cell_type": "code",
   "execution_count": 48,
   "metadata": {},
   "outputs": [],
   "source": [
    "# Flatten JSON \n",
    "metro_data = pd.json_normalize(list(metro_data.find()))"
   ]
  },
  {
   "cell_type": "code",
   "execution_count": 49,
   "metadata": {
    "scrolled": false
   },
   "outputs": [
    {
     "data": {
      "application/vnd.jupyter.widget-view+json": {
       "model_id": "4ca01d70468e435f89bc073a90ab9a3a",
       "version_major": 2,
       "version_minor": 0
      },
      "text/plain": [
       "Figure(layout=FigureLayout(height='420px'))"
      ]
     },
     "metadata": {},
     "output_type": "display_data"
    }
   ],
   "source": [
    "fig = gmaps.figure()\n",
    "\n",
    "heatmap_layer = gmaps.heatmap_layer(metro_data[['details.latitude', 'details.longitude']])\n",
    "heatmap_layer.gradient = [\n",
    "    (200, 200, 200, 0),\n",
    "    (0, 0, 255, 1),\n",
    "    (0, 0, 255, 1)]\n",
    "\n",
    "heatmap_layer_1 = gmaps.heatmap_layer(rent_data[['latitude', 'longitude']], \n",
    "                                   weights = rent_data['price'], \n",
    "                                    max_intensity = 200000,\n",
    "                                    point_radius=6.0)\n",
    "\n",
    "\n",
    "fig.add_layer(heatmap_layer)\n",
    "fig.add_layer(heatmap_layer_1)\n",
    "\n",
    "\n",
    "fig"
   ]
  },
  {
   "cell_type": "code",
   "execution_count": 582,
   "metadata": {},
   "outputs": [],
   "source": [
    "metro_data['Coordinates'] = metro_data['details.latitude'].astype(str) + ',' + metro_data['details.longitude'].astype(str)"
   ]
  },
  {
   "cell_type": "code",
   "execution_count": 648,
   "metadata": {},
   "outputs": [
    {
     "name": "stderr",
     "output_type": "stream",
     "text": [
      "/Library/Frameworks/Python.framework/Versions/3.6/lib/python3.6/site-packages/ipykernel_launcher.py:14: SettingWithCopyWarning: \n",
      "A value is trying to be set on a copy of a slice from a DataFrame\n",
      "\n",
      "See the caveats in the documentation: https://pandas.pydata.org/pandas-docs/stable/user_guide/indexing.html#returning-a-view-versus-a-copy\n",
      "  \n"
     ]
    },
    {
     "name": "stdout",
     "output_type": "stream",
     "text": [
      "Completed_Pass in 3.6843600273132324 Seconds\n",
      "Completed_Pass in 3.52484393119812 Seconds\n",
      "Completed_Pass in 3.631027936935425 Seconds\n",
      "Completed_Pass in 3.715977907180786 Seconds\n",
      "Completed_Pass in 3.941168785095215 Seconds\n",
      "Completed_Pass in 3.7260890007019043 Seconds\n",
      "Completed_Pass in 3.766896963119507 Seconds\n",
      "Completed_Pass in 3.6363141536712646 Seconds\n",
      "Completed_Pass in 3.5463969707489014 Seconds\n",
      "Completed_Pass in 3.6225380897521973 Seconds\n",
      "Completed_Pass in 3.7123849391937256 Seconds\n",
      "Completed_Pass in 3.6832239627838135 Seconds\n",
      "Completed_Pass in 3.852293014526367 Seconds\n",
      "Completed_Pass in 3.6614840030670166 Seconds\n",
      "Completed_Pass in 3.848217010498047 Seconds\n",
      "Completed_Pass in 4.772636890411377 Seconds\n",
      "Completed_Pass in 5.9559547901153564 Seconds\n",
      "Completed_Pass in 5.799846887588501 Seconds\n",
      "Completed_Pass in 5.299943923950195 Seconds\n",
      "Completed_Pass in 3.989423990249634 Seconds\n",
      "Completed_Pass in 5.361371278762817 Seconds\n",
      "Completed_Pass in 3.9847521781921387 Seconds\n",
      "Completed_Pass in 4.243155002593994 Seconds\n",
      "Completed_Pass in 6.384830951690674 Seconds\n",
      "Completed_Pass in 4.603708982467651 Seconds\n",
      "Completed_Pass in 6.066123962402344 Seconds\n",
      "Completed_Pass in 7.646768093109131 Seconds\n",
      "Completed_Pass in 7.402124881744385 Seconds\n",
      "Completed_Pass in 7.730581998825073 Seconds\n",
      "Completed_Pass in 6.964942932128906 Seconds\n",
      "Completed_Pass in 9.554352283477783 Seconds\n",
      "Completed_Pass in 14.446245670318604 Seconds\n",
      "Completed_Pass in 5.426270008087158 Seconds\n",
      "Completed_Pass in 8.351577043533325 Seconds\n",
      "Completed_Pass in 6.434435129165649 Seconds\n",
      "Completed_Pass in 5.238341331481934 Seconds\n",
      "Completed_Pass in 5.002437114715576 Seconds\n",
      "Completed_Pass in 5.663457155227661 Seconds\n",
      "Completed_Pass in 4.8816211223602295 Seconds\n",
      "Completed_Pass in 5.44019889831543 Seconds\n",
      "Completed_Pass in 5.756574869155884 Seconds\n",
      "Completed_Pass in 5.126812934875488 Seconds\n",
      "Completed_Pass in 4.784372806549072 Seconds\n",
      "Completed_Pass in 5.124629020690918 Seconds\n",
      "Completed_Pass in 3.884160041809082 Seconds\n",
      "Completed_Pass in 4.342550992965698 Seconds\n",
      "Completed_Pass in 3.981196880340576 Seconds\n",
      "Completed_Pass in 4.009799003601074 Seconds\n",
      "Completed_Pass in 3.798760175704956 Seconds\n",
      "Completed_Pass in 3.8897132873535156 Seconds\n",
      "Completed_Pass in 3.750164031982422 Seconds\n",
      "Completed_Pass in 3.9309797286987305 Seconds\n",
      "Completed_Pass in 5.198143005371094 Seconds\n",
      "Completed_Pass in 4.015275001525879 Seconds\n",
      "Completed_Pass in 3.955828905105591 Seconds\n",
      "Completed_Pass in 3.9754080772399902 Seconds\n",
      "Completed_Pass in 3.796644926071167 Seconds\n",
      "Completed_Pass in 3.8059871196746826 Seconds\n",
      "Completed_Pass in 5.143296957015991 Seconds\n",
      "Completed_Pass in 4.958928108215332 Seconds\n",
      "Completed_Pass in 4.6021339893341064 Seconds\n",
      "Completed_Pass in 4.719766139984131 Seconds\n",
      "Completed_Pass in 5.9504780769348145 Seconds\n",
      "Completed_Pass in 5.2932820320129395 Seconds\n",
      "Completed_Pass in 4.452072858810425 Seconds\n",
      "Completed_Pass in 5.1311469078063965 Seconds\n",
      "Completed_Pass in 4.278402090072632 Seconds\n",
      "Completed_Pass in 4.497491836547852 Seconds\n",
      "Completed_Pass in 4.106441974639893 Seconds\n",
      "Completed_Pass in 4.515873670578003 Seconds\n",
      "Completed_Pass in 3.93829607963562 Seconds\n",
      "Completed_Pass in 3.8762431144714355 Seconds\n",
      "Completed_Pass in 3.8486549854278564 Seconds\n",
      "Completed_Pass in 4.345003843307495 Seconds\n",
      "Completed_Pass in 3.7472751140594482 Seconds\n",
      "Completed_Pass in 4.834896087646484 Seconds\n",
      "Completed_Pass in 4.776955842971802 Seconds\n",
      "Completed_Pass in 4.393609285354614 Seconds\n",
      "Completed_Pass in 4.149064064025879 Seconds\n",
      "Completed_Pass in 3.8002548217773438 Seconds\n",
      "Completed_Pass in 3.8064310550689697 Seconds\n",
      "Completed_Pass in 3.746455192565918 Seconds\n",
      "Completed_Pass in 4.0523810386657715 Seconds\n",
      "Completed_Pass in 3.766469955444336 Seconds\n",
      "Completed_Pass in 4.853778123855591 Seconds\n",
      "Completed_Pass in 5.295944929122925 Seconds\n",
      "Completed_Pass in 5.573167085647583 Seconds\n",
      "Completed_Pass in 7.07160496711731 Seconds\n",
      "Completed_Pass in 5.837144136428833 Seconds\n",
      "Completed_Pass in 4.469078063964844 Seconds\n",
      "Completed_Pass in 4.106299161911011 Seconds\n",
      "Completed_Pass in 3.869051694869995 Seconds\n",
      "Completed_Pass in 3.8213281631469727 Seconds\n",
      "Completed_Pass in 3.9968838691711426 Seconds\n",
      "Completed_Pass in 3.835132122039795 Seconds\n",
      "Completed_Pass in 4.217388868331909 Seconds\n",
      "Completed_Pass in 3.963434934616089 Seconds\n",
      "Completed_Pass in 3.917121171951294 Seconds\n",
      "Completed_Pass in 5.266175985336304 Seconds\n",
      "Completed_Pass in 5.091735124588013 Seconds\n",
      "Completed_Pass in 4.811002731323242 Seconds\n",
      "Completed_Pass in 4.064709186553955 Seconds\n",
      "Completed_Pass in 3.7540640830993652 Seconds\n",
      "Completed_Pass in 4.4528419971466064 Seconds\n",
      "Completed_Pass in 4.6467719078063965 Seconds\n",
      "Completed_Pass in 5.030533075332642 Seconds\n",
      "Completed_Pass in 3.930583953857422 Seconds\n",
      "Completed_Pass in 3.8411829471588135 Seconds\n",
      "Completed_Pass in 3.898883104324341 Seconds\n",
      "Completed_Pass in 3.9478862285614014 Seconds\n",
      "Completed_Pass in 4.012846231460571 Seconds\n",
      "Completed_Pass in 6.05798602104187 Seconds\n",
      "Completed_Pass in 5.02934718132019 Seconds\n",
      "Completed_Pass in 3.9400899410247803 Seconds\n",
      "Completed_Pass in 4.018218994140625 Seconds\n",
      "Completed_Pass in 3.9047272205352783 Seconds\n",
      "Completed_Pass in 3.749715805053711 Seconds\n",
      "Completed_Pass in 4.944106101989746 Seconds\n",
      "Completed_Pass in 4.866754055023193 Seconds\n",
      "Completed_Pass in 4.004446029663086 Seconds\n",
      "Completed_Pass in 4.328332185745239 Seconds\n",
      "Completed_Pass in 4.015434980392456 Seconds\n",
      "Completed_Pass in 4.10837984085083 Seconds\n",
      "Completed_Pass in 4.986835956573486 Seconds\n",
      "Completed_Pass in 4.5978686809539795 Seconds\n",
      "Completed_Pass in 3.8294341564178467 Seconds\n",
      "Completed_Pass in 3.947765827178955 Seconds\n",
      "Completed_Pass in 4.091660022735596 Seconds\n",
      "Completed_Pass in 5.594839096069336 Seconds\n",
      "Completed_Pass in 8.275070905685425 Seconds\n",
      "Completed_Pass in 7.107131242752075 Seconds\n",
      "Completed_Pass in 5.143808841705322 Seconds\n",
      "Completed_Pass in 3.9936249256134033 Seconds\n",
      "Completed_Pass in 4.962119102478027 Seconds\n",
      "Completed_Pass in 4.514457941055298 Seconds\n",
      "Completed_Pass in 6.030837059020996 Seconds\n",
      "Completed_Pass in 4.3640570640563965 Seconds\n",
      "Completed_Pass in 6.159001111984253 Seconds\n",
      "Completed_Pass in 6.636229991912842 Seconds\n",
      "Completed_Pass in 4.866606950759888 Seconds\n",
      "Completed_Pass in 5.07238507270813 Seconds\n",
      "Completed_Pass in 5.364765882492065 Seconds\n",
      "Completed_Pass in 5.349238872528076 Seconds\n",
      "Completed_Pass in 4.764366865158081 Seconds\n",
      "Completed_Pass in 4.864333868026733 Seconds\n",
      "Completed_Pass in 5.319268703460693 Seconds\n",
      "Completed_Pass in 5.134830951690674 Seconds\n",
      "Completed_Pass in 4.215265989303589 Seconds\n",
      "Completed_Pass in 5.651211977005005 Seconds\n",
      "Completed_Pass in 7.4897778034210205 Seconds\n",
      "Completed_Pass in 6.735144853591919 Seconds\n",
      "Completed_Pass in 6.66473913192749 Seconds\n",
      "Completed_Pass in 6.745464086532593 Seconds\n",
      "Completed_Pass in 5.439174175262451 Seconds\n",
      "Completed_Pass in 4.430682897567749 Seconds\n",
      "Completed_Pass in 5.6092848777771 Seconds\n",
      "Completed_Pass in 5.0096728801727295 Seconds\n",
      "Completed_Pass in 4.219864845275879 Seconds\n",
      "Completed_Pass in 4.268222093582153 Seconds\n",
      "Completed_Pass in 4.314226150512695 Seconds\n",
      "Completed_Pass in 4.379000663757324 Seconds\n",
      "Completed_Pass in 4.828863143920898 Seconds\n",
      "Completed_Pass in 6.614586114883423 Seconds\n",
      "Completed_Pass in 9.464171886444092 Seconds\n",
      "Completed_Pass in 6.114400148391724 Seconds\n",
      "Completed_Pass in 5.288787126541138 Seconds\n",
      "Completed_Pass in 5.342406988143921 Seconds\n",
      "Completed_Pass in 6.6561689376831055 Seconds\n",
      "Completed_Pass in 6.282528877258301 Seconds\n",
      "Completed_Pass in 5.375391006469727 Seconds\n",
      "Completed_Pass in 5.31127405166626 Seconds\n",
      "Completed_Pass in 4.218951940536499 Seconds\n",
      "Completed_Pass in 4.797544002532959 Seconds\n",
      "Completed_Pass in 3.9117050170898438 Seconds\n",
      "Completed_Pass in 5.397925853729248 Seconds\n",
      "Completed_Pass in 6.045085191726685 Seconds\n",
      "Completed_Pass in 5.157948970794678 Seconds\n",
      "Completed_Pass in 6.803913831710815 Seconds\n",
      "Completed_Pass in 8.407399892807007 Seconds\n",
      "Completed_Pass in 7.737709045410156 Seconds\n",
      "Completed_Pass in 7.14075493812561 Seconds\n",
      "Completed_Pass in 5.288265943527222 Seconds\n",
      "Completed_Pass in 6.290303945541382 Seconds\n",
      "Completed_Pass in 5.265716075897217 Seconds\n",
      "Completed_Pass in 7.790195941925049 Seconds\n",
      "Completed_Pass in 5.875703811645508 Seconds\n"
     ]
    },
    {
     "name": "stdout",
     "output_type": "stream",
     "text": [
      "Completed_Pass in 5.16392707824707 Seconds\n",
      "Completed_Pass in 6.276181936264038 Seconds\n",
      "Completed_Pass in 4.228852033615112 Seconds\n",
      "Completed_Pass in 3.7877349853515625 Seconds\n",
      "Completed_Pass in 3.9362800121307373 Seconds\n",
      "Completed_Pass in 4.338251113891602 Seconds\n",
      "Completed_Pass in 4.707863807678223 Seconds\n",
      "Completed_Pass in 4.934067010879517 Seconds\n",
      "Completed_Pass in 4.912569761276245 Seconds\n",
      "Completed_Pass in 6.713587045669556 Seconds\n",
      "Completed_Pass in 3.980476140975952 Seconds\n",
      "Completed_Pass in 4.683915138244629 Seconds\n",
      "Completed_Pass in 5.48007607460022 Seconds\n",
      "Completed_Pass in 5.137398958206177 Seconds\n",
      "Completed_Pass in 4.236294984817505 Seconds\n",
      "Completed_Pass in 4.29990291595459 Seconds\n",
      "Completed_Pass in 3.910822868347168 Seconds\n",
      "Completed_Pass in 6.0516040325164795 Seconds\n",
      "Completed_Pass in 4.717060089111328 Seconds\n",
      "Completed_Pass in 3.804049015045166 Seconds\n",
      "Completed_Pass in 3.91473388671875 Seconds\n",
      "Completed_Pass in 3.9393599033355713 Seconds\n",
      "Completed_Pass in 5.115566968917847 Seconds\n",
      "Completed_Pass in 5.764137268066406 Seconds\n",
      "Completed_Pass in 4.669900178909302 Seconds\n",
      "Completed_Pass in 4.373290061950684 Seconds\n",
      "Completed_Pass in 4.419983863830566 Seconds\n",
      "Completed_Pass in 4.310435056686401 Seconds\n",
      "Completed_Pass in 5.473523855209351 Seconds\n",
      "Completed_Pass in 4.822220087051392 Seconds\n",
      "Completed_Pass in 4.411797046661377 Seconds\n",
      "Completed_Pass in 4.124658823013306 Seconds\n",
      "Completed_Pass in 4.574434280395508 Seconds\n",
      "Completed_Pass in 5.817852258682251 Seconds\n",
      "Completed_Pass in 5.329685926437378 Seconds\n",
      "Completed_Pass in 5.051186800003052 Seconds\n",
      "Completed_Pass in 4.876235008239746 Seconds\n",
      "Completed_Pass in 3.974932909011841 Seconds\n",
      "Completed_Pass in 3.8061749935150146 Seconds\n",
      "Completed_Pass in 4.147204875946045 Seconds\n",
      "Completed_Pass in 3.950991153717041 Seconds\n",
      "Completed_Pass in 5.268733024597168 Seconds\n",
      "Completed_Pass in 4.284619092941284 Seconds\n"
     ]
    }
   ],
   "source": [
    "# Extremely slow function, go grab dinner. Improve later \n",
    "temp = rent_data.copy()\n",
    "\n",
    "for i,item in enumerate(metro_data.name.to_list()[:]):\n",
    "    temp = calc_dist(temp, metro_data['Coordinates'].str.split(',').iloc[i], item)"
   ]
  },
  {
   "cell_type": "code",
   "execution_count": 663,
   "metadata": {},
   "outputs": [],
   "source": [
    "rent_data['closest_mtero_station_km'] = temp.iloc[:,10:].min(axis = 1)"
   ]
  },
  {
   "cell_type": "code",
   "execution_count": 666,
   "metadata": {},
   "outputs": [
    {
     "data": {
      "text/plain": [
       "<matplotlib.axes._subplots.AxesSubplot at 0x135f14cc0>"
      ]
     },
     "execution_count": 666,
     "metadata": {},
     "output_type": "execute_result"
    },
    {
     "data": {
      "image/png": "[encoded data removed]",
      "text/plain": [
       "<Figure size 432x288 with 1 Axes>"
      ]
     },
     "metadata": {
      "needs_background": "light"
     },
     "output_type": "display_data"
    }
   ],
   "source": [
    "sns.distplot(temp.iloc[:, -2:].min(axis = 1))"
   ]
  },
  {
   "cell_type": "markdown",
   "metadata": {},
   "source": [
    "### Bi-Variate Analysis \n",
    "### Multi-Variate Analysis \n",
    "### Data Interaction "
   ]
  },
  {
   "cell_type": "markdown",
   "metadata": {},
   "source": [
    "## Feature Engineering \n",
    "## (GeoPY) Goelocation - Distance from Airport, AIIMS, CP."
   ]
  },
  {
   "cell_type": "markdown",
   "metadata": {},
   "source": [
    "### Airport - Centre Point\t28.55489735,77.08467458266915"
   ]
  },
  {
   "cell_type": "code",
   "execution_count": 27,
   "metadata": {},
   "outputs": [],
   "source": [
    "Airport = (28.55489735, 77.08467458266915)\n",
    "Aiims =( 28.5668602,77.2078058)\n",
    "CP = (28.6313827,77.2197924) # Practically useless \n",
    "NDLS_railway = (28.6417, 77.2207)"
   ]
  },
  {
   "cell_type": "code",
   "execution_count": 28,
   "metadata": {},
   "outputs": [],
   "source": [
    "from geopy.distance import geodesic\n",
    "from time import time\n",
    "\n",
    "def calc_dist(rent_data_df, coord, name):\n",
    "    \"\"\"Calculates the distance of each listing from given coordinates and createa a\n",
    "    column in the Df with prefix name_.\n",
    "    coord is a tuple of lat and lon and are floats. name is a string.\n",
    "    \"\"\"\n",
    "    rent_data_df[name + '_dist_km'] = 0.0\n",
    "    \n",
    "    tic = time()\n",
    "    for i in range(len(rent_data_df)):\n",
    "        rent_data_df[name + '_dist_km'][i] = geodesic(rent_data['latitude'][i].astype(str) + ',' + rent_data['longitude'][i].astype(str),\n",
    "                                                   str(coord[0]) + ',' + str(coord[1])).km        \n",
    "    print(f'Completed_Pass in {time() - tic} Seconds')\n",
    "    return rent_data_df"
   ]
  },
  {
   "cell_type": "code",
   "execution_count": 30,
   "metadata": {},
   "outputs": [
    {
     "name": "stderr",
     "output_type": "stream",
     "text": [
      "/Library/Frameworks/Python.framework/Versions/3.6/lib/python3.6/site-packages/ipykernel_launcher.py:14: SettingWithCopyWarning: \n",
      "A value is trying to be set on a copy of a slice from a DataFrame\n",
      "\n",
      "See the caveats in the documentation: https://pandas.pydata.org/pandas-docs/stable/user_guide/indexing.html#returning-a-view-versus-a-copy\n",
      "  \n"
     ]
    },
    {
     "name": "stdout",
     "output_type": "stream",
     "text": [
      "Completed_Pass in 4.054443120956421 Seconds\n"
     ]
    }
   ],
   "source": [
    "rent_data = calc_dist(rent_data, Airport, 'AP')"
   ]
  },
  {
   "cell_type": "code",
   "execution_count": 31,
   "metadata": {},
   "outputs": [
    {
     "name": "stderr",
     "output_type": "stream",
     "text": [
      "/Library/Frameworks/Python.framework/Versions/3.6/lib/python3.6/site-packages/ipykernel_launcher.py:14: SettingWithCopyWarning: \n",
      "A value is trying to be set on a copy of a slice from a DataFrame\n",
      "\n",
      "See the caveats in the documentation: https://pandas.pydata.org/pandas-docs/stable/user_guide/indexing.html#returning-a-view-versus-a-copy\n",
      "  \n"
     ]
    },
    {
     "name": "stdout",
     "output_type": "stream",
     "text": [
      "Completed_Pass in 6.24465799331665 Seconds\n"
     ]
    }
   ],
   "source": [
    "rent_data = calc_dist(rent_data, Aiims, 'Aiims')"
   ]
  },
  {
   "cell_type": "code",
   "execution_count": 29,
   "metadata": {},
   "outputs": [
    {
     "name": "stderr",
     "output_type": "stream",
     "text": [
      "/Library/Frameworks/Python.framework/Versions/3.6/lib/python3.6/site-packages/ipykernel_launcher.py:14: SettingWithCopyWarning: \n",
      "A value is trying to be set on a copy of a slice from a DataFrame\n",
      "\n",
      "See the caveats in the documentation: https://pandas.pydata.org/pandas-docs/stable/user_guide/indexing.html#returning-a-view-versus-a-copy\n",
      "  \n"
     ]
    },
    {
     "name": "stdout",
     "output_type": "stream",
     "text": [
      "Completed_Pass in 4.923648118972778 Seconds\n"
     ]
    }
   ],
   "source": [
    "rent_data = calc_dist(rent_data, NDLS_railway, 'NDRLW')"
   ]
  },
  {
   "cell_type": "markdown",
   "metadata": {},
   "source": [
    "### Collinearity - Checking Correlations between predictor vars. \n",
    "Collinearity is when the predictors are correlated. For ex, the size of the house and the number of bedrooms. <br>\n",
    "I'm not getting definite answers but multicollinearity doesn't seem to be a problem for Random Forest etc. and is a consideration mainly for regression analysis.<br>\n",
    "Drop Bedrooms, latitude and Longitude."
   ]
  },
  {
   "cell_type": "code",
   "execution_count": 32,
   "metadata": {},
   "outputs": [
    {
     "data": {
      "text/plain": [
       "<matplotlib.axes._subplots.AxesSubplot at 0x121cce080>"
      ]
     },
     "execution_count": 32,
     "metadata": {},
     "output_type": "execute_result"
    },
    {
     "data": {
      "image/png": "[encoded data removed]",
      "text/plain": [
       "<Figure size 432x288 with 2 Axes>"
      ]
     },
     "metadata": {
      "needs_background": "light"
     },
     "output_type": "display_data"
    }
   ],
   "source": [
    "sns.heatmap(rent_data.corr(method='pearson'), annot=True)"
   ]
  },
  {
   "cell_type": "markdown",
   "metadata": {},
   "source": [
    "## Modelling\n",
    "1. dirty attempt with no regards to proper splitting. (about .60 r^2 score with cv). Just Using area and bedroom.\n",
    "2. Lets add suburbName to the mix.(5 Encoded columns ) r^2 Score : 0.68\n",
    "3. PropertyType - (4 encoded columns): 0.66, std 0.1\n",
    "4. LocalityName - (160 values): 0.79, std = 0.78\n",
    "5. Collinearity - Just drop a column(Bedrooms): 0.7899, std = 0.09 (Similar accuracy, much lower stdev) (MAE - -7090)\n",
    "6. Collinearity - Create a mixture of the offending Collumns(surface per bedroom - it seems like this'll loose the info about the size of the house ? seems like this would be misleading. - Absolutely correct looses a lot of info): 0.537 std = 0.11\n",
    "7. a. MultiCOllinearity ? - The suburb name and locaility names have similar data - drop suburb name. : 0.72 std 0.12\n",
    "7. b. The same but with bedrooms dropped.: 0.74 std 0.10\n",
    "8. Add company/dealer.(Improves scores but this is a contraint, limits model, also, with these many features 313, it is extremely slow) 0.80 std 0.0738 (MAE - -6608)\n",
    "9. Modelling should be done by now, with the available data, move on to more data or XGBoost. OR splitting by the district in a better ratio.(not needed)\n",
    "10. Distance from airport added.(This model now uses lat, long so another constraint added for input by user, can ask Km's from AP but that makes the Algo seem dumb) 0.76 std 0.06 (MAE -7121.346641305841)\n",
    "11. Distance from AIIMS Delhi and CP. 0.753 std 0.067 (MAE - -6933.305912927501 698.9)"
   ]
  },
  {
   "cell_type": "markdown",
   "metadata": {},
   "source": [
    "#### Performance Log\n",
    "1. After removing duplicates and approach 5 (No company name).CV- Train :0.74 std  0.10, Train MAE : 7411 , MSE :  375454635, Test set : 0.76.\n",
    "2. After removing duplicates and approach 9(With Company Name). CV- Train : 0.75 std 0.07, Train MAE : 7339 , MSE : 409066679, Test set : 0.85. \n",
    "3. Added Distance from Airport CV- Train : 0.7514 std 0.06. Train MAE : -7595. MSE : 410337141. Test Set 0.76.\n",
    "4. Added Distance from AIIMS CV Train : 0.77 std 0.08. Train MAE - 7501 MSE - 352156603. Test Set 0.72\n",
    "5. Added Distance from CP Train : 0.705 Std 0.0607. Train MAE - 7620 MSE - 435806285. Test Set 0.81\n",
    "6. With all Metro data. CV Train 0.759 std 0.08. Test Set 0.757\n",
    "7. Closest Metro Station. CV Train: 0.743 std 0.059. Train MAE - 7413 MSE - 384380646. Test Set 0.73.\n",
    "8. Aiims 0.775 std 0.06, MAE 7640 MSE 345675776\n",
    "9. (Just select this) Aiims + Airport + RLW CV Train: 0.733 std 0.04. Train MAE 7557 MSE 416968776. Test Set 0.77\n",
    "10. With Company Name. CV Train: 0.80 std 0.05. Train MAE 6791 MSE 292907031. Test Set 0.77\n",
    "11. With the target(price) log transformed. Cannot directly compare training r2, MAE, RMSE as the target has been transformed. Random Forest-  After inverse transforming predictions and taking R2 - Test Set 0.784 (so Maybe Improvement ?)\n",
    "13. Scale(standardise) all data and log transform target. Random Forest-  After inverse transforming predictions and taking R2 - Test Set 0.792."
   ]
  },
  {
   "cell_type": "code",
   "execution_count": 101,
   "metadata": {},
   "outputs": [],
   "source": [
    "# Creating copy of dataframe. \n",
    "\n",
    "temp = rent_data.copy()"
   ]
  },
  {
   "cell_type": "code",
   "execution_count": 102,
   "metadata": {},
   "outputs": [],
   "source": [
    "# for attempy 5\n",
    "temp.drop(['bedrooms'], axis = 1, inplace = True)"
   ]
  },
  {
   "cell_type": "code",
   "execution_count": 103,
   "metadata": {},
   "outputs": [],
   "source": [
    "# skip this step for attempt 7 only\n",
    "\n",
    "temp = pd.concat([temp,pd.get_dummies(temp.suburbName, prefix='sN_')], axis = 1)"
   ]
  },
  {
   "cell_type": "code",
   "execution_count": 104,
   "metadata": {},
   "outputs": [],
   "source": [
    "temp.drop(['suburbName'], axis = 1, inplace=True)"
   ]
  },
  {
   "cell_type": "code",
   "execution_count": 105,
   "metadata": {},
   "outputs": [],
   "source": [
    "temp = pd.concat([temp,pd.get_dummies(temp.propertyType, prefix='pT_')], axis = 1)"
   ]
  },
  {
   "cell_type": "code",
   "execution_count": 106,
   "metadata": {},
   "outputs": [],
   "source": [
    "temp.drop(['propertyType'], axis = 1, inplace=True)"
   ]
  },
  {
   "cell_type": "code",
   "execution_count": 107,
   "metadata": {},
   "outputs": [],
   "source": [
    "temp = pd.concat([temp,pd.get_dummies(temp.localityName, prefix='lN_')], axis = 1)\n",
    "temp.drop(['localityName'], axis = 1, inplace=True)"
   ]
  },
  {
   "cell_type": "code",
   "execution_count": 790,
   "metadata": {},
   "outputs": [],
   "source": [
    "# for attemp 8 only companyName\n",
    "#temp = pd.concat([temp,pd.get_dummies(temp.companyName, prefix='cN_')], axis = 1)\n",
    "#temp.drop(['companyName'], axis = 1, inplace=True)"
   ]
  },
  {
   "cell_type": "code",
   "execution_count": 108,
   "metadata": {},
   "outputs": [],
   "source": [
    "from sklearn.model_selection import train_test_split\n",
    "from sklearn.ensemble import RandomForestRegressor\n",
    "from sklearn.model_selection import cross_val_score, cross_val_predict\n",
    "from sklearn.metrics import r2_score, SCORERS\n",
    "#sorted(SCORERS.keys())"
   ]
  },
  {
   "cell_type": "code",
   "execution_count": 109,
   "metadata": {},
   "outputs": [],
   "source": [
    "labels = temp.price"
   ]
  },
  {
   "cell_type": "code",
   "execution_count": 110,
   "metadata": {},
   "outputs": [
    {
     "data": {
      "text/plain": [
       "179"
      ]
     },
     "execution_count": 110,
     "metadata": {},
     "output_type": "execute_result"
    }
   ],
   "source": [
    "len(temp.columns)"
   ]
  },
  {
   "cell_type": "code",
   "execution_count": 111,
   "metadata": {},
   "outputs": [],
   "source": [
    "temp.drop(['price'], axis = 1, inplace=True)"
   ]
  },
  {
   "cell_type": "code",
   "execution_count": 112,
   "metadata": {},
   "outputs": [],
   "source": [
    "columns = ['size_sq_ft', 'bedrooms', 'sN__Delhi East', 'sN__Delhi South', 'sN__North Delhi', 'sN__Rohini',\n",
    "           'sN__West Delhi', 'pT__Apartment', 'pT__Independent Floor', 'pT__Independent House', 'pT__Villa']\n",
    "\n",
    "# With so many columns just drop the ones you don't want.\n",
    "drop_cols = ['latitude', 'longitude', 'cityName', 'companyName']"
   ]
  },
  {
   "cell_type": "code",
   "execution_count": 794,
   "metadata": {},
   "outputs": [],
   "source": [
    "# for attempt 8. \n",
    "#drop_cols = ['latitude', 'longitude', 'cityName']"
   ]
  },
  {
   "cell_type": "code",
   "execution_count": 125,
   "metadata": {},
   "outputs": [
    {
     "data": {
      "text/plain": [
       "StandardScaler(copy=True, with_mean=True, with_std=True)"
      ]
     },
     "execution_count": 125,
     "metadata": {},
     "output_type": "execute_result"
    }
   ],
   "source": [
    "from sklearn.preprocessing import StandardScaler\n",
    "scale = StandardScaler()\n",
    "scale.fit(temp.drop(drop_cols, axis = 1))"
   ]
  },
  {
   "cell_type": "code",
   "execution_count": 126,
   "metadata": {},
   "outputs": [],
   "source": [
    "x_train, x_test, y_train, y_test = train_test_split(scale.transform(temp.drop(drop_cols, axis = 1))\n",
    "                                                    , labels, test_size = .30,\n",
    "                                                   shuffle = True)"
   ]
  },
  {
   "cell_type": "markdown",
   "metadata": {},
   "source": [
    "#### Train- test Balance for suburbName\n",
    "The balance is fine, Trust the random process child."
   ]
  },
  {
   "cell_type": "code",
   "execution_count": 127,
   "metadata": {},
   "outputs": [
    {
     "ename": "IndexError",
     "evalue": "only integers, slices (`:`), ellipsis (`...`), numpy.newaxis (`None`) and integer or boolean arrays are valid indices",
     "output_type": "error",
     "traceback": [
      "\u001b[0;31m---------------------------------------------------------------------------\u001b[0m",
      "\u001b[0;31mIndexError\u001b[0m                                Traceback (most recent call last)",
      "\u001b[0;32m<ipython-input-127-fcf48a4dd6fb>\u001b[0m in \u001b[0;36m<module>\u001b[0;34m()\u001b[0m\n\u001b[0;32m----> 1\u001b[0;31m \u001b[0mprint\u001b[0m\u001b[0;34m(\u001b[0m\u001b[0mx_train\u001b[0m\u001b[0;34m[\u001b[0m\u001b[0;34m'sN__Delhi East'\u001b[0m\u001b[0;34m]\u001b[0m\u001b[0;34m.\u001b[0m\u001b[0mvalue_counts\u001b[0m\u001b[0;34m(\u001b[0m\u001b[0;34m)\u001b[0m\u001b[0;34m[\u001b[0m\u001b[0;36m1\u001b[0m\u001b[0;34m]\u001b[0m\u001b[0;34m/\u001b[0m\u001b[0mx_train\u001b[0m\u001b[0;34m[\u001b[0m\u001b[0;34m'sN__Delhi East'\u001b[0m\u001b[0;34m]\u001b[0m\u001b[0;34m.\u001b[0m\u001b[0mvalue_counts\u001b[0m\u001b[0;34m(\u001b[0m\u001b[0;34m)\u001b[0m\u001b[0;34m[\u001b[0m\u001b[0;36m0\u001b[0m\u001b[0;34m]\u001b[0m\u001b[0;34m)\u001b[0m\u001b[0;34m\u001b[0m\u001b[0m\n\u001b[0m\u001b[1;32m      2\u001b[0m \u001b[0mprint\u001b[0m\u001b[0;34m(\u001b[0m\u001b[0mx_test\u001b[0m\u001b[0;34m[\u001b[0m\u001b[0;34m'sN__Delhi East'\u001b[0m\u001b[0;34m]\u001b[0m\u001b[0;34m.\u001b[0m\u001b[0mvalue_counts\u001b[0m\u001b[0;34m(\u001b[0m\u001b[0;34m)\u001b[0m\u001b[0;34m[\u001b[0m\u001b[0;36m1\u001b[0m\u001b[0;34m]\u001b[0m\u001b[0;34m/\u001b[0m\u001b[0mx_test\u001b[0m\u001b[0;34m[\u001b[0m\u001b[0;34m'sN__Delhi East'\u001b[0m\u001b[0;34m]\u001b[0m\u001b[0;34m.\u001b[0m\u001b[0mvalue_counts\u001b[0m\u001b[0;34m(\u001b[0m\u001b[0;34m)\u001b[0m\u001b[0;34m[\u001b[0m\u001b[0;36m0\u001b[0m\u001b[0;34m]\u001b[0m\u001b[0;34m)\u001b[0m\u001b[0;34m\u001b[0m\u001b[0m\n",
      "\u001b[0;31mIndexError\u001b[0m: only integers, slices (`:`), ellipsis (`...`), numpy.newaxis (`None`) and integer or boolean arrays are valid indices"
     ]
    }
   ],
   "source": [
    "print(x_train['sN__Delhi East'].value_counts()[1]/x_train['sN__Delhi East'].value_counts()[0])\n",
    "print(x_test['sN__Delhi East'].value_counts()[1]/x_test['sN__Delhi East'].value_counts()[0])"
   ]
  },
  {
   "cell_type": "code",
   "execution_count": 94,
   "metadata": {},
   "outputs": [
    {
     "name": "stdout",
     "output_type": "stream",
     "text": [
      "0.3683622135271101\n",
      "0.3718954248366013\n"
     ]
    }
   ],
   "source": [
    "print(x_train['sN__Delhi South'].value_counts()[1]/x_train['sN__Delhi South'].value_counts()[0])\n",
    "print(x_test['sN__Delhi South'].value_counts()[1]/x_test['sN__Delhi South'].value_counts()[0])"
   ]
  },
  {
   "cell_type": "code",
   "execution_count": 95,
   "metadata": {},
   "outputs": [
    {
     "name": "stdout",
     "output_type": "stream",
     "text": [
      "0.22369407648087977\n",
      "0.20910138248847926\n"
     ]
    }
   ],
   "source": [
    "print(x_train['sN__North Delhi'].value_counts()[1]/x_train['sN__North Delhi'].value_counts()[0])\n",
    "print(x_test['sN__North Delhi'].value_counts()[1]/x_test['sN__North Delhi'].value_counts()[0])"
   ]
  },
  {
   "cell_type": "code",
   "execution_count": 96,
   "metadata": {},
   "outputs": [
    {
     "name": "stdout",
     "output_type": "stream",
     "text": [
      "0.04059511158342189\n",
      "0.044278606965174126\n"
     ]
    }
   ],
   "source": [
    "print(x_train['sN__Rohini'].value_counts()[1]/x_train['sN__Rohini'].value_counts()[0])\n",
    "print(x_test['sN__Rohini'].value_counts()[1]/x_test['sN__Rohini'].value_counts()[0])"
   ]
  },
  {
   "cell_type": "code",
   "execution_count": 831,
   "metadata": {},
   "outputs": [
    {
     "name": "stdout",
     "output_type": "stream",
     "text": [
      "0.34468552595440816\n",
      "0.3647594278283485\n"
     ]
    }
   ],
   "source": [
    "print(x_train['sN__West Delhi'].value_counts()[1]/x_train['sN__West Delhi'].value_counts()[0])\n",
    "print(x_test['sN__West Delhi'].value_counts()[1]/x_test['sN__West Delhi'].value_counts()[0])"
   ]
  },
  {
   "cell_type": "code",
   "execution_count": 832,
   "metadata": {},
   "outputs": [
    {
     "data": {
      "text/plain": [
       "28.137931034482758"
      ]
     },
     "execution_count": 832,
     "metadata": {},
     "output_type": "execute_result"
    }
   ],
   "source": [
    "# some naive metric to see if enough data for features, 5 samples per feature.\n",
    "x_train.shape[0]/x_train.shape[1]"
   ]
  },
  {
   "cell_type": "markdown",
   "metadata": {},
   "source": [
    "#### Random Forest\n",
    "Predictions tend to do underestimate the prices, Outliers are a big problem. "
   ]
  },
  {
   "cell_type": "code",
   "execution_count": 128,
   "metadata": {},
   "outputs": [],
   "source": [
    "rf = RandomForestRegressor(n_estimators=100,\n",
    "                          criterion = 'mse', max_depth = None, oob_score = True, n_jobs = -1)"
   ]
  },
  {
   "cell_type": "code",
   "execution_count": 129,
   "metadata": {},
   "outputs": [
    {
     "data": {
      "text/plain": [
       "RandomForestRegressor(bootstrap=True, ccp_alpha=0.0, criterion='mse',\n",
       "                      max_depth=None, max_features='auto', max_leaf_nodes=None,\n",
       "                      max_samples=None, min_impurity_decrease=0.0,\n",
       "                      min_impurity_split=None, min_samples_leaf=1,\n",
       "                      min_samples_split=2, min_weight_fraction_leaf=0.0,\n",
       "                      n_estimators=100, n_jobs=-1, oob_score=True,\n",
       "                      random_state=None, verbose=0, warm_start=False)"
      ]
     },
     "execution_count": 129,
     "metadata": {},
     "output_type": "execute_result"
    }
   ],
   "source": [
    "rf.fit(x_train, y_train)"
   ]
  },
  {
   "cell_type": "code",
   "execution_count": 131,
   "metadata": {},
   "outputs": [
    {
     "name": "stderr",
     "output_type": "stream",
     "text": [
      "[Parallel(n_jobs=-1)]: Using backend LokyBackend with 4 concurrent workers.\n"
     ]
    },
    {
     "name": "stdout",
     "output_type": "stream",
     "text": [
      "0.8395800844460192 0.02626839143216422\n"
     ]
    },
    {
     "name": "stderr",
     "output_type": "stream",
     "text": [
      "[Parallel(n_jobs=-1)]: Done  10 out of  10 | elapsed:   19.6s finished\n"
     ]
    }
   ],
   "source": [
    "cv_score = cross_val_score(rf, x_train, y_train, cv = 10, scoring='r2', n_jobs=-1, verbose = True)\n",
    "print(np.mean(cv_score), np.std(cv_score))"
   ]
  },
  {
   "cell_type": "code",
   "execution_count": 130,
   "metadata": {},
   "outputs": [
    {
     "data": {
      "text/plain": [
       "0.8736744526739075"
      ]
     },
     "execution_count": 130,
     "metadata": {},
     "output_type": "execute_result"
    }
   ],
   "source": [
    "rf.score(x_test, y_test)"
   ]
  },
  {
   "cell_type": "code",
   "execution_count": 132,
   "metadata": {},
   "outputs": [],
   "source": [
    "test_pred = rf.predict(x_test)"
   ]
  },
  {
   "cell_type": "code",
   "execution_count": 133,
   "metadata": {},
   "outputs": [
    {
     "name": "stdout",
     "output_type": "stream",
     "text": [
      "0.7927220261992669\n"
     ]
    }
   ],
   "source": [
    "print(r2_score(np.exp(y_test), np.exp(test_pred)))"
   ]
  },
  {
   "cell_type": "code",
   "execution_count": 120,
   "metadata": {},
   "outputs": [
    {
     "name": "stdout",
     "output_type": "stream",
     "text": [
      "-0.19820810376110115 0.012249695004910719\n"
     ]
    }
   ],
   "source": [
    "cv_score = cross_val_score(rf, x_train, y_train, cv = 10, scoring='neg_mean_absolute_error', n_jobs=-1)\n",
    "print(np.mean(cv_score), np.std(cv_score))"
   ]
  },
  {
   "cell_type": "code",
   "execution_count": 121,
   "metadata": {},
   "outputs": [
    {
     "name": "stdout",
     "output_type": "stream",
     "text": [
      "-0.08187369479507148 0.01105216908646111\n"
     ]
    }
   ],
   "source": [
    "mse_val_score = cross_val_score(rf, x_train, y_train, cv = 10, scoring='neg_mean_squared_error', n_jobs=-1)\n",
    "print(np.mean(mse_val_score), np.std(mse_val_score))"
   ]
  },
  {
   "cell_type": "markdown",
   "metadata": {},
   "source": [
    "### XGBoost Regressor "
   ]
  },
  {
   "cell_type": "code",
   "execution_count": 135,
   "metadata": {},
   "outputs": [],
   "source": [
    "from xgboost import XGBRegressor"
   ]
  },
  {
   "cell_type": "code",
   "execution_count": 136,
   "metadata": {},
   "outputs": [],
   "source": [
    "model = XGBRegressor(n_estimators = 1000,learning_rate=0.05,max_depth=6, n_jobs = 4, objective='reg:squarederror')\n",
    "                     #, eval_metric= 'mae')"
   ]
  },
  {
   "cell_type": "code",
   "execution_count": 137,
   "metadata": {
    "scrolled": false
   },
   "outputs": [
    {
     "name": "stdout",
     "output_type": "stream",
     "text": [
      "[0]\tvalidation_0-rmse:9.07309\n",
      "Will train until validation_0-rmse hasn't improved in 5 rounds.\n",
      "[1]\tvalidation_0-rmse:8.62130\n",
      "[2]\tvalidation_0-rmse:8.19226\n",
      "[3]\tvalidation_0-rmse:7.78440\n",
      "[4]\tvalidation_0-rmse:7.39683\n",
      "[5]\tvalidation_0-rmse:7.02903\n",
      "[6]\tvalidation_0-rmse:6.67913\n",
      "[7]\tvalidation_0-rmse:6.34685\n",
      "[8]\tvalidation_0-rmse:6.03153\n",
      "[9]\tvalidation_0-rmse:5.73189\n",
      "[10]\tvalidation_0-rmse:5.44733\n",
      "[11]\tvalidation_0-rmse:5.17683\n",
      "[12]\tvalidation_0-rmse:4.92013\n",
      "[13]\tvalidation_0-rmse:4.67616\n",
      "[14]\tvalidation_0-rmse:4.44442\n",
      "[15]\tvalidation_0-rmse:4.22435\n",
      "[16]\tvalidation_0-rmse:4.01534\n",
      "[17]\tvalidation_0-rmse:3.81682\n",
      "[18]\tvalidation_0-rmse:3.62846\n",
      "[19]\tvalidation_0-rmse:3.44924\n",
      "[20]\tvalidation_0-rmse:3.27948\n",
      "[21]\tvalidation_0-rmse:3.11815\n",
      "[22]\tvalidation_0-rmse:2.96489\n",
      "[23]\tvalidation_0-rmse:2.81924\n",
      "[24]\tvalidation_0-rmse:2.68078\n",
      "[25]\tvalidation_0-rmse:2.54967\n",
      "[26]\tvalidation_0-rmse:2.42486\n",
      "[27]\tvalidation_0-rmse:2.30657\n",
      "[28]\tvalidation_0-rmse:2.19423\n",
      "[29]\tvalidation_0-rmse:2.08755\n",
      "[30]\tvalidation_0-rmse:1.98632\n",
      "[31]\tvalidation_0-rmse:1.89012\n",
      "[32]\tvalidation_0-rmse:1.79883\n",
      "[33]\tvalidation_0-rmse:1.71231\n",
      "[34]\tvalidation_0-rmse:1.62998\n",
      "[35]\tvalidation_0-rmse:1.55212\n",
      "[36]\tvalidation_0-rmse:1.47823\n",
      "[37]\tvalidation_0-rmse:1.40802\n",
      "[38]\tvalidation_0-rmse:1.34148\n",
      "[39]\tvalidation_0-rmse:1.27848\n",
      "[40]\tvalidation_0-rmse:1.21857\n",
      "[41]\tvalidation_0-rmse:1.16183\n",
      "[42]\tvalidation_0-rmse:1.10805\n",
      "[43]\tvalidation_0-rmse:1.05698\n",
      "[44]\tvalidation_0-rmse:1.00867\n",
      "[45]\tvalidation_0-rmse:0.96313\n",
      "[46]\tvalidation_0-rmse:0.91990\n",
      "[47]\tvalidation_0-rmse:0.87917\n",
      "[48]\tvalidation_0-rmse:0.84041\n",
      "[49]\tvalidation_0-rmse:0.80380\n",
      "[50]\tvalidation_0-rmse:0.76934\n",
      "[51]\tvalidation_0-rmse:0.73668\n",
      "[52]\tvalidation_0-rmse:0.70590\n",
      "[53]\tvalidation_0-rmse:0.67692\n",
      "[54]\tvalidation_0-rmse:0.64959\n",
      "[55]\tvalidation_0-rmse:0.62373\n",
      "[56]\tvalidation_0-rmse:0.59964\n",
      "[57]\tvalidation_0-rmse:0.57678\n",
      "[58]\tvalidation_0-rmse:0.55534\n",
      "[59]\tvalidation_0-rmse:0.53527\n",
      "[60]\tvalidation_0-rmse:0.51636\n",
      "[61]\tvalidation_0-rmse:0.49872\n",
      "[62]\tvalidation_0-rmse:0.48188\n",
      "[63]\tvalidation_0-rmse:0.46614\n",
      "[64]\tvalidation_0-rmse:0.45177\n",
      "[65]\tvalidation_0-rmse:0.43806\n",
      "[66]\tvalidation_0-rmse:0.42560\n",
      "[67]\tvalidation_0-rmse:0.41379\n",
      "[68]\tvalidation_0-rmse:0.40275\n",
      "[69]\tvalidation_0-rmse:0.39280\n",
      "[70]\tvalidation_0-rmse:0.38347\n",
      "[71]\tvalidation_0-rmse:0.37479\n",
      "[72]\tvalidation_0-rmse:0.36670\n",
      "[73]\tvalidation_0-rmse:0.35920\n",
      "[74]\tvalidation_0-rmse:0.35231\n",
      "[75]\tvalidation_0-rmse:0.34603\n",
      "[76]\tvalidation_0-rmse:0.34010\n",
      "[77]\tvalidation_0-rmse:0.33461\n",
      "[78]\tvalidation_0-rmse:0.32966\n",
      "[79]\tvalidation_0-rmse:0.32513\n",
      "[80]\tvalidation_0-rmse:0.32053\n",
      "[81]\tvalidation_0-rmse:0.31630\n",
      "[82]\tvalidation_0-rmse:0.31274\n",
      "[83]\tvalidation_0-rmse:0.30947\n",
      "[84]\tvalidation_0-rmse:0.30647\n",
      "[85]\tvalidation_0-rmse:0.30384\n",
      "[86]\tvalidation_0-rmse:0.30108\n",
      "[87]\tvalidation_0-rmse:0.29864\n",
      "[88]\tvalidation_0-rmse:0.29653\n",
      "[89]\tvalidation_0-rmse:0.29440\n",
      "[90]\tvalidation_0-rmse:0.29250\n",
      "[91]\tvalidation_0-rmse:0.29104\n",
      "[92]\tvalidation_0-rmse:0.28930\n",
      "[93]\tvalidation_0-rmse:0.28782\n",
      "[94]\tvalidation_0-rmse:0.28654\n",
      "[95]\tvalidation_0-rmse:0.28543\n",
      "[96]\tvalidation_0-rmse:0.28436\n",
      "[97]\tvalidation_0-rmse:0.28327\n",
      "[98]\tvalidation_0-rmse:0.28256\n",
      "[99]\tvalidation_0-rmse:0.28185\n",
      "[100]\tvalidation_0-rmse:0.28110\n",
      "[101]\tvalidation_0-rmse:0.28035\n",
      "[102]\tvalidation_0-rmse:0.27973\n",
      "[103]\tvalidation_0-rmse:0.27904\n",
      "[104]\tvalidation_0-rmse:0.27855\n",
      "[105]\tvalidation_0-rmse:0.27809\n",
      "[106]\tvalidation_0-rmse:0.27759\n",
      "[107]\tvalidation_0-rmse:0.27722\n",
      "[108]\tvalidation_0-rmse:0.27688\n",
      "[109]\tvalidation_0-rmse:0.27661\n",
      "[110]\tvalidation_0-rmse:0.27633\n",
      "[111]\tvalidation_0-rmse:0.27602\n",
      "[112]\tvalidation_0-rmse:0.27569\n",
      "[113]\tvalidation_0-rmse:0.27550\n",
      "[114]\tvalidation_0-rmse:0.27533\n",
      "[115]\tvalidation_0-rmse:0.27504\n",
      "[116]\tvalidation_0-rmse:0.27484\n",
      "[117]\tvalidation_0-rmse:0.27473\n",
      "[118]\tvalidation_0-rmse:0.27454\n",
      "[119]\tvalidation_0-rmse:0.27442\n",
      "[120]\tvalidation_0-rmse:0.27430\n",
      "[121]\tvalidation_0-rmse:0.27428\n",
      "[122]\tvalidation_0-rmse:0.27415\n",
      "[123]\tvalidation_0-rmse:0.27401\n",
      "[124]\tvalidation_0-rmse:0.27393\n",
      "[125]\tvalidation_0-rmse:0.27381\n",
      "[126]\tvalidation_0-rmse:0.27369\n",
      "[127]\tvalidation_0-rmse:0.27363\n",
      "[128]\tvalidation_0-rmse:0.27356\n",
      "[129]\tvalidation_0-rmse:0.27346\n",
      "[130]\tvalidation_0-rmse:0.27344\n",
      "[131]\tvalidation_0-rmse:0.27340\n",
      "[132]\tvalidation_0-rmse:0.27333\n",
      "[133]\tvalidation_0-rmse:0.27330\n",
      "[134]\tvalidation_0-rmse:0.27322\n",
      "[135]\tvalidation_0-rmse:0.27316\n",
      "[136]\tvalidation_0-rmse:0.27323\n",
      "[137]\tvalidation_0-rmse:0.27317\n",
      "[138]\tvalidation_0-rmse:0.27314\n",
      "[139]\tvalidation_0-rmse:0.27294\n",
      "[140]\tvalidation_0-rmse:0.27296\n",
      "[141]\tvalidation_0-rmse:0.27286\n",
      "[142]\tvalidation_0-rmse:0.27281\n",
      "[143]\tvalidation_0-rmse:0.27286\n",
      "[144]\tvalidation_0-rmse:0.27278\n",
      "[145]\tvalidation_0-rmse:0.27274\n",
      "[146]\tvalidation_0-rmse:0.27271\n",
      "[147]\tvalidation_0-rmse:0.27263\n",
      "[148]\tvalidation_0-rmse:0.27260\n",
      "[149]\tvalidation_0-rmse:0.27258\n",
      "[150]\tvalidation_0-rmse:0.27261\n",
      "[151]\tvalidation_0-rmse:0.27253\n",
      "[152]\tvalidation_0-rmse:0.27254\n",
      "[153]\tvalidation_0-rmse:0.27251\n",
      "[154]\tvalidation_0-rmse:0.27247\n",
      "[155]\tvalidation_0-rmse:0.27250\n",
      "[156]\tvalidation_0-rmse:0.27252\n",
      "[157]\tvalidation_0-rmse:0.27247\n",
      "[158]\tvalidation_0-rmse:0.27244\n",
      "[159]\tvalidation_0-rmse:0.27239\n",
      "[160]\tvalidation_0-rmse:0.27223\n",
      "[161]\tvalidation_0-rmse:0.27219\n",
      "[162]\tvalidation_0-rmse:0.27218\n",
      "[163]\tvalidation_0-rmse:0.27211\n",
      "[164]\tvalidation_0-rmse:0.27208\n",
      "[165]\tvalidation_0-rmse:0.27210\n",
      "[166]\tvalidation_0-rmse:0.27211\n",
      "[167]\tvalidation_0-rmse:0.27212\n",
      "[168]\tvalidation_0-rmse:0.27216\n",
      "[169]\tvalidation_0-rmse:0.27216\n",
      "Stopping. Best iteration:\n",
      "[164]\tvalidation_0-rmse:0.27208\n",
      "\n"
     ]
    },
    {
     "data": {
      "text/plain": [
       "XGBRegressor(base_score=0.5, booster=None, colsample_bylevel=1,\n",
       "             colsample_bynode=1, colsample_bytree=1, gamma=0, gpu_id=-1,\n",
       "             importance_type='gain', interaction_constraints=None,\n",
       "             learning_rate=0.05, max_delta_step=0, max_depth=6,\n",
       "             min_child_weight=1, missing=nan, monotone_constraints=None,\n",
       "             n_estimators=1000, n_jobs=4, num_parallel_tree=1,\n",
       "             objective='reg:squarederror', random_state=0, reg_alpha=0,\n",
       "             reg_lambda=1, scale_pos_weight=1, subsample=1, tree_method=None,\n",
       "             validate_parameters=False, verbosity=None)"
      ]
     },
     "execution_count": 137,
     "metadata": {},
     "output_type": "execute_result"
    }
   ],
   "source": [
    "model.fit(x_train, y_train, \n",
    "             early_stopping_rounds=5, \n",
    "             eval_set=[(x_test, y_test)],\n",
    "             verbose=True)"
   ]
  },
  {
   "cell_type": "code",
   "execution_count": 138,
   "metadata": {},
   "outputs": [
    {
     "data": {
      "text/plain": [
       "0.8758045525015435"
      ]
     },
     "execution_count": 138,
     "metadata": {},
     "output_type": "execute_result"
    }
   ],
   "source": [
    "model.score(x_test, y_test)"
   ]
  },
  {
   "cell_type": "code",
   "execution_count": 139,
   "metadata": {},
   "outputs": [
    {
     "name": "stdout",
     "output_type": "stream",
     "text": [
      "0.7927220261992669\n"
     ]
    }
   ],
   "source": [
    "print(r2_score(np.exp(y_test.to_list()), np.exp(test_pred)))"
   ]
  },
  {
   "cell_type": "code",
   "execution_count": 140,
   "metadata": {},
   "outputs": [],
   "source": [
    "test_pred = model.predict(x_test)"
   ]
  },
  {
   "cell_type": "code",
   "execution_count": 141,
   "metadata": {},
   "outputs": [
    {
     "data": {
      "image/png": "[encoded data removed]",
      "text/plain": [
       "<Figure size 864x432 with 1 Axes>"
      ]
     },
     "metadata": {
      "needs_background": "light"
     },
     "output_type": "display_data"
    }
   ],
   "source": [
    "plt.figure(figsize=(12,6))\n",
    "plt.xlim(0, 150000)\n",
    "sns.distplot(np.exp(test_pred), label = 'Actual')\n",
    "sns.distplot(np.exp(y_test.to_list()), label='Predictions')\n",
    "plt.legend()\n",
    "plt.show()"
   ]
  },
  {
   "cell_type": "code",
   "execution_count": 142,
   "metadata": {},
   "outputs": [
    {
     "data": {
      "image/png": "[encoded data removed]",
      "text/plain": [
       "<Figure size 864x432 with 1 Axes>"
      ]
     },
     "metadata": {
      "needs_background": "light"
     },
     "output_type": "display_data"
    }
   ],
   "source": [
    "plt.figure(figsize=(12,6))\n",
    "plt.plot(np.exp(y_test.to_list()), 'b.', label = 'Actual Values')\n",
    "plt.plot(np.exp(test_pred), 'r.', label = 'Predicted Values')\n",
    "plt.legend()\n",
    "plt.show()"
   ]
  },
  {
   "cell_type": "markdown",
   "metadata": {},
   "source": [
    "#### Feature Importance"
   ]
  },
  {
   "cell_type": "code",
   "execution_count": 143,
   "metadata": {},
   "outputs": [
    {
     "ename": "AttributeError",
     "evalue": "'numpy.ndarray' object has no attribute 'columns'",
     "output_type": "error",
     "traceback": [
      "\u001b[0;31m---------------------------------------------------------------------------\u001b[0m",
      "\u001b[0;31mAttributeError\u001b[0m                            Traceback (most recent call last)",
      "\u001b[0;32m<ipython-input-143-279e80b62eb0>\u001b[0m in \u001b[0;36m<module>\u001b[0;34m()\u001b[0m\n\u001b[0;32m----> 1\u001b[0;31m \u001b[0mcols\u001b[0m \u001b[0;34m=\u001b[0m \u001b[0mx_train\u001b[0m\u001b[0;34m.\u001b[0m\u001b[0mcolumns\u001b[0m\u001b[0;34m\u001b[0m\u001b[0m\n\u001b[0m\u001b[1;32m      2\u001b[0m \u001b[0mimp\u001b[0m \u001b[0;34m=\u001b[0m \u001b[0mmodel\u001b[0m\u001b[0;34m.\u001b[0m\u001b[0mfeature_importances_\u001b[0m\u001b[0;34m\u001b[0m\u001b[0m\n",
      "\u001b[0;31mAttributeError\u001b[0m: 'numpy.ndarray' object has no attribute 'columns'"
     ]
    }
   ],
   "source": [
    "cols = x_train.columns\n",
    "imp = model.feature_importances_"
   ]
  },
  {
   "cell_type": "code",
   "execution_count": 94,
   "metadata": {},
   "outputs": [],
   "source": [
    "feat_imp = pd.DataFrame(data = imp, index=cols)"
   ]
  },
  {
   "cell_type": "code",
   "execution_count": 95,
   "metadata": {},
   "outputs": [
    {
     "data": {
      "text/html": [
       "<div>\n",
       "<style scoped>\n",
       "    .dataframe tbody tr th:only-of-type {\n",
       "        vertical-align: middle;\n",
       "    }\n",
       "\n",
       "    .dataframe tbody tr th {\n",
       "        vertical-align: top;\n",
       "    }\n",
       "\n",
       "    .dataframe thead th {\n",
       "        text-align: right;\n",
       "    }\n",
       "</style>\n",
       "<table border=\"1\" class=\"dataframe\">\n",
       "  <thead>\n",
       "    <tr style=\"text-align: right;\">\n",
       "      <th></th>\n",
       "      <th>0</th>\n",
       "    </tr>\n",
       "  </thead>\n",
       "  <tbody>\n",
       "    <tr>\n",
       "      <th>size_sq_ft</th>\n",
       "      <td>0.260807</td>\n",
       "    </tr>\n",
       "    <tr>\n",
       "      <th>lN__Ashok Vihar</th>\n",
       "      <td>0.052132</td>\n",
       "    </tr>\n",
       "    <tr>\n",
       "      <th>Aiims_dist_km</th>\n",
       "      <td>0.038146</td>\n",
       "    </tr>\n",
       "    <tr>\n",
       "      <th>lN__Karol Bagh</th>\n",
       "      <td>0.031745</td>\n",
       "    </tr>\n",
       "    <tr>\n",
       "      <th>sN__North Delhi</th>\n",
       "      <td>0.027013</td>\n",
       "    </tr>\n",
       "    <tr>\n",
       "      <th>sN__Delhi East</th>\n",
       "      <td>0.020573</td>\n",
       "    </tr>\n",
       "    <tr>\n",
       "      <th>lN__Preet Vihar</th>\n",
       "      <td>0.018441</td>\n",
       "    </tr>\n",
       "    <tr>\n",
       "      <th>sN__Delhi South</th>\n",
       "      <td>0.018392</td>\n",
       "    </tr>\n",
       "    <tr>\n",
       "      <th>lN__Paschim Vihar</th>\n",
       "      <td>0.018382</td>\n",
       "    </tr>\n",
       "    <tr>\n",
       "      <th>lN__Gujranwala Town</th>\n",
       "      <td>0.017195</td>\n",
       "    </tr>\n",
       "    <tr>\n",
       "      <th>lN__Malviya Nagar</th>\n",
       "      <td>0.016625</td>\n",
       "    </tr>\n",
       "    <tr>\n",
       "      <th>lN__Delhi</th>\n",
       "      <td>0.016270</td>\n",
       "    </tr>\n",
       "    <tr>\n",
       "      <th>lN__Pitampura</th>\n",
       "      <td>0.015357</td>\n",
       "    </tr>\n",
       "    <tr>\n",
       "      <th>AP_dist_km</th>\n",
       "      <td>0.015278</td>\n",
       "    </tr>\n",
       "    <tr>\n",
       "      <th>NDRLW_dist_km</th>\n",
       "      <td>0.015179</td>\n",
       "    </tr>\n",
       "    <tr>\n",
       "      <th>lN__Yojna Vihar</th>\n",
       "      <td>0.013998</td>\n",
       "    </tr>\n",
       "    <tr>\n",
       "      <th>pT__Apartment</th>\n",
       "      <td>0.013007</td>\n",
       "    </tr>\n",
       "    <tr>\n",
       "      <th>lN__Vasant Kunj</th>\n",
       "      <td>0.012915</td>\n",
       "    </tr>\n",
       "    <tr>\n",
       "      <th>lN__New Ashok Nagar</th>\n",
       "      <td>0.012776</td>\n",
       "    </tr>\n",
       "    <tr>\n",
       "      <th>lN__Anand Vihar</th>\n",
       "      <td>0.011965</td>\n",
       "    </tr>\n",
       "  </tbody>\n",
       "</table>\n",
       "</div>"
      ],
      "text/plain": [
       "                            0\n",
       "size_sq_ft           0.260807\n",
       "lN__Ashok Vihar      0.052132\n",
       "Aiims_dist_km        0.038146\n",
       "lN__Karol Bagh       0.031745\n",
       "sN__North Delhi      0.027013\n",
       "sN__Delhi East       0.020573\n",
       "lN__Preet Vihar      0.018441\n",
       "sN__Delhi South      0.018392\n",
       "lN__Paschim Vihar    0.018382\n",
       "lN__Gujranwala Town  0.017195\n",
       "lN__Malviya Nagar    0.016625\n",
       "lN__Delhi            0.016270\n",
       "lN__Pitampura        0.015357\n",
       "AP_dist_km           0.015278\n",
       "NDRLW_dist_km        0.015179\n",
       "lN__Yojna Vihar      0.013998\n",
       "pT__Apartment        0.013007\n",
       "lN__Vasant Kunj      0.012915\n",
       "lN__New Ashok Nagar  0.012776\n",
       "lN__Anand Vihar      0.011965"
      ]
     },
     "execution_count": 95,
     "metadata": {},
     "output_type": "execute_result"
    }
   ],
   "source": [
    "feat_imp.sort_values(by = 0, ascending=False).head(20)"
   ]
  },
  {
   "cell_type": "code",
   "execution_count": null,
   "metadata": {},
   "outputs": [],
   "source": []
  },
  {
   "cell_type": "code",
   "execution_count": null,
   "metadata": {},
   "outputs": [],
   "source": []
  },
  {
   "cell_type": "code",
   "execution_count": null,
   "metadata": {},
   "outputs": [],
   "source": []
  }
 ],
 "metadata": {
  "kernelspec": {
   "display_name": "Python 3",
   "language": "python",
   "name": "python3"
  },
  "language_info": {
   "codemirror_mode": {
    "name": "ipython",
    "version": 3
   },
   "file_extension": ".py",
   "mimetype": "text/x-python",
   "name": "python",
   "nbconvert_exporter": "python",
   "pygments_lexer": "ipython3",
   "version": "3.6.4"
  }
 },
 "nbformat": 4,
 "nbformat_minor": 2
}
